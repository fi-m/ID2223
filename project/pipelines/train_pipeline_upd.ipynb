{
  "nbformat": 4,
  "nbformat_minor": 0,
  "metadata": {
    "colab": {
      "provenance": []
    },
    "kernelspec": {
      "name": "python3",
      "display_name": "Python 3"
    },
    "language_info": {
      "name": "python"
    },
    "accelerator": "GPU",
    "gpuClass": "standard",
    "widgets": {
      "application/vnd.jupyter.widget-state+json": {
        "25eaf9e186724faca36f81e8395bf498": {
          "model_module": "@jupyter-widgets/controls",
          "model_name": "HBoxModel",
          "model_module_version": "1.5.0",
          "state": {
            "_dom_classes": [],
            "_model_module": "@jupyter-widgets/controls",
            "_model_module_version": "1.5.0",
            "_model_name": "HBoxModel",
            "_view_count": null,
            "_view_module": "@jupyter-widgets/controls",
            "_view_module_version": "1.5.0",
            "_view_name": "HBoxView",
            "box_style": "",
            "children": [
              "IPY_MODEL_87f063da8e2643fe951446cd56502bed",
              "IPY_MODEL_f66b88f5b756449584d4f34eeaf0173d",
              "IPY_MODEL_7d6a05f217f64194a9cb5547434489ce"
            ],
            "layout": "IPY_MODEL_78666116f7ad41b4b3dd14af93d0a693"
          }
        },
        "87f063da8e2643fe951446cd56502bed": {
          "model_module": "@jupyter-widgets/controls",
          "model_name": "HTMLModel",
          "model_module_version": "1.5.0",
          "state": {
            "_dom_classes": [],
            "_model_module": "@jupyter-widgets/controls",
            "_model_module_version": "1.5.0",
            "_model_name": "HTMLModel",
            "_view_count": null,
            "_view_module": "@jupyter-widgets/controls",
            "_view_module_version": "1.5.0",
            "_view_name": "HTMLView",
            "description": "",
            "description_tooltip": null,
            "layout": "IPY_MODEL_dfd935e7fbdc437f9d66ed781b06a71c",
            "placeholder": "​",
            "style": "IPY_MODEL_d2fe9a6260e6407a8aba449e5b72c8b2",
            "value": "Model export complete: 100%"
          }
        },
        "f66b88f5b756449584d4f34eeaf0173d": {
          "model_module": "@jupyter-widgets/controls",
          "model_name": "FloatProgressModel",
          "model_module_version": "1.5.0",
          "state": {
            "_dom_classes": [],
            "_model_module": "@jupyter-widgets/controls",
            "_model_module_version": "1.5.0",
            "_model_name": "FloatProgressModel",
            "_view_count": null,
            "_view_module": "@jupyter-widgets/controls",
            "_view_module_version": "1.5.0",
            "_view_name": "ProgressView",
            "bar_style": "success",
            "description": "",
            "description_tooltip": null,
            "layout": "IPY_MODEL_b826b55cef1c48b0a9cb51b5c0b7f414",
            "max": 6,
            "min": 0,
            "orientation": "horizontal",
            "style": "IPY_MODEL_d53cb346c75d4de0aad6d3750f2c6910",
            "value": 6
          }
        },
        "7d6a05f217f64194a9cb5547434489ce": {
          "model_module": "@jupyter-widgets/controls",
          "model_name": "HTMLModel",
          "model_module_version": "1.5.0",
          "state": {
            "_dom_classes": [],
            "_model_module": "@jupyter-widgets/controls",
            "_model_module_version": "1.5.0",
            "_model_name": "HTMLModel",
            "_view_count": null,
            "_view_module": "@jupyter-widgets/controls",
            "_view_module_version": "1.5.0",
            "_view_name": "HTMLView",
            "description": "",
            "description_tooltip": null,
            "layout": "IPY_MODEL_1dc69846dee348618d642fe7eaf67170",
            "placeholder": "​",
            "style": "IPY_MODEL_d2c0b1de5b1f4e659fb8bdbb6716d15f",
            "value": " 6/6 [00:27&lt;00:00,  5.70s/it]"
          }
        },
        "78666116f7ad41b4b3dd14af93d0a693": {
          "model_module": "@jupyter-widgets/base",
          "model_name": "LayoutModel",
          "model_module_version": "1.2.0",
          "state": {
            "_model_module": "@jupyter-widgets/base",
            "_model_module_version": "1.2.0",
            "_model_name": "LayoutModel",
            "_view_count": null,
            "_view_module": "@jupyter-widgets/base",
            "_view_module_version": "1.2.0",
            "_view_name": "LayoutView",
            "align_content": null,
            "align_items": null,
            "align_self": null,
            "border": null,
            "bottom": null,
            "display": null,
            "flex": null,
            "flex_flow": null,
            "grid_area": null,
            "grid_auto_columns": null,
            "grid_auto_flow": null,
            "grid_auto_rows": null,
            "grid_column": null,
            "grid_gap": null,
            "grid_row": null,
            "grid_template_areas": null,
            "grid_template_columns": null,
            "grid_template_rows": null,
            "height": null,
            "justify_content": null,
            "justify_items": null,
            "left": null,
            "margin": null,
            "max_height": null,
            "max_width": null,
            "min_height": null,
            "min_width": null,
            "object_fit": null,
            "object_position": null,
            "order": null,
            "overflow": null,
            "overflow_x": null,
            "overflow_y": null,
            "padding": null,
            "right": null,
            "top": null,
            "visibility": null,
            "width": null
          }
        },
        "dfd935e7fbdc437f9d66ed781b06a71c": {
          "model_module": "@jupyter-widgets/base",
          "model_name": "LayoutModel",
          "model_module_version": "1.2.0",
          "state": {
            "_model_module": "@jupyter-widgets/base",
            "_model_module_version": "1.2.0",
            "_model_name": "LayoutModel",
            "_view_count": null,
            "_view_module": "@jupyter-widgets/base",
            "_view_module_version": "1.2.0",
            "_view_name": "LayoutView",
            "align_content": null,
            "align_items": null,
            "align_self": null,
            "border": null,
            "bottom": null,
            "display": null,
            "flex": null,
            "flex_flow": null,
            "grid_area": null,
            "grid_auto_columns": null,
            "grid_auto_flow": null,
            "grid_auto_rows": null,
            "grid_column": null,
            "grid_gap": null,
            "grid_row": null,
            "grid_template_areas": null,
            "grid_template_columns": null,
            "grid_template_rows": null,
            "height": null,
            "justify_content": null,
            "justify_items": null,
            "left": null,
            "margin": null,
            "max_height": null,
            "max_width": null,
            "min_height": null,
            "min_width": null,
            "object_fit": null,
            "object_position": null,
            "order": null,
            "overflow": null,
            "overflow_x": null,
            "overflow_y": null,
            "padding": null,
            "right": null,
            "top": null,
            "visibility": null,
            "width": null
          }
        },
        "d2fe9a6260e6407a8aba449e5b72c8b2": {
          "model_module": "@jupyter-widgets/controls",
          "model_name": "DescriptionStyleModel",
          "model_module_version": "1.5.0",
          "state": {
            "_model_module": "@jupyter-widgets/controls",
            "_model_module_version": "1.5.0",
            "_model_name": "DescriptionStyleModel",
            "_view_count": null,
            "_view_module": "@jupyter-widgets/base",
            "_view_module_version": "1.2.0",
            "_view_name": "StyleView",
            "description_width": ""
          }
        },
        "b826b55cef1c48b0a9cb51b5c0b7f414": {
          "model_module": "@jupyter-widgets/base",
          "model_name": "LayoutModel",
          "model_module_version": "1.2.0",
          "state": {
            "_model_module": "@jupyter-widgets/base",
            "_model_module_version": "1.2.0",
            "_model_name": "LayoutModel",
            "_view_count": null,
            "_view_module": "@jupyter-widgets/base",
            "_view_module_version": "1.2.0",
            "_view_name": "LayoutView",
            "align_content": null,
            "align_items": null,
            "align_self": null,
            "border": null,
            "bottom": null,
            "display": null,
            "flex": null,
            "flex_flow": null,
            "grid_area": null,
            "grid_auto_columns": null,
            "grid_auto_flow": null,
            "grid_auto_rows": null,
            "grid_column": null,
            "grid_gap": null,
            "grid_row": null,
            "grid_template_areas": null,
            "grid_template_columns": null,
            "grid_template_rows": null,
            "height": null,
            "justify_content": null,
            "justify_items": null,
            "left": null,
            "margin": null,
            "max_height": null,
            "max_width": null,
            "min_height": null,
            "min_width": null,
            "object_fit": null,
            "object_position": null,
            "order": null,
            "overflow": null,
            "overflow_x": null,
            "overflow_y": null,
            "padding": null,
            "right": null,
            "top": null,
            "visibility": null,
            "width": null
          }
        },
        "d53cb346c75d4de0aad6d3750f2c6910": {
          "model_module": "@jupyter-widgets/controls",
          "model_name": "ProgressStyleModel",
          "model_module_version": "1.5.0",
          "state": {
            "_model_module": "@jupyter-widgets/controls",
            "_model_module_version": "1.5.0",
            "_model_name": "ProgressStyleModel",
            "_view_count": null,
            "_view_module": "@jupyter-widgets/base",
            "_view_module_version": "1.2.0",
            "_view_name": "StyleView",
            "bar_color": null,
            "description_width": ""
          }
        },
        "1dc69846dee348618d642fe7eaf67170": {
          "model_module": "@jupyter-widgets/base",
          "model_name": "LayoutModel",
          "model_module_version": "1.2.0",
          "state": {
            "_model_module": "@jupyter-widgets/base",
            "_model_module_version": "1.2.0",
            "_model_name": "LayoutModel",
            "_view_count": null,
            "_view_module": "@jupyter-widgets/base",
            "_view_module_version": "1.2.0",
            "_view_name": "LayoutView",
            "align_content": null,
            "align_items": null,
            "align_self": null,
            "border": null,
            "bottom": null,
            "display": null,
            "flex": null,
            "flex_flow": null,
            "grid_area": null,
            "grid_auto_columns": null,
            "grid_auto_flow": null,
            "grid_auto_rows": null,
            "grid_column": null,
            "grid_gap": null,
            "grid_row": null,
            "grid_template_areas": null,
            "grid_template_columns": null,
            "grid_template_rows": null,
            "height": null,
            "justify_content": null,
            "justify_items": null,
            "left": null,
            "margin": null,
            "max_height": null,
            "max_width": null,
            "min_height": null,
            "min_width": null,
            "object_fit": null,
            "object_position": null,
            "order": null,
            "overflow": null,
            "overflow_x": null,
            "overflow_y": null,
            "padding": null,
            "right": null,
            "top": null,
            "visibility": null,
            "width": null
          }
        },
        "d2c0b1de5b1f4e659fb8bdbb6716d15f": {
          "model_module": "@jupyter-widgets/controls",
          "model_name": "DescriptionStyleModel",
          "model_module_version": "1.5.0",
          "state": {
            "_model_module": "@jupyter-widgets/controls",
            "_model_module_version": "1.5.0",
            "_model_name": "DescriptionStyleModel",
            "_view_count": null,
            "_view_module": "@jupyter-widgets/base",
            "_view_module_version": "1.2.0",
            "_view_name": "StyleView",
            "description_width": ""
          }
        }
      }
    }
  },
  "cells": [
    {
      "cell_type": "code",
      "source": [
        "# High-ram runtime helps in training, allows for num_workers = 4 instead of 2."
      ],
      "metadata": {
        "id": "sdTjjKj0_S3t"
      },
      "execution_count": null,
      "outputs": []
    },
    {
      "cell_type": "code",
      "source": [
        "from google.colab import drive\n",
        "drive.mount('/content/gdrive')"
      ],
      "metadata": {
        "colab": {
          "base_uri": "https://localhost:8080/"
        },
        "id": "JS5tkiUyPVJ4",
        "outputId": "891ead83-8008-47ae-b3ed-45d853877e94"
      },
      "execution_count": null,
      "outputs": [
        {
          "output_type": "stream",
          "name": "stdout",
          "text": [
            "Mounted at /content/gdrive\n"
          ]
        }
      ]
    },
    {
      "cell_type": "code",
      "source": [
        "# Fetch lib from drive\n",
        "!cp -r ./gdrive/MyDrive/vocal-remover/lib/ ./lib"
      ],
      "metadata": {
        "id": "hxmuQ4I4Piyu"
      },
      "execution_count": null,
      "outputs": []
    },
    {
      "cell_type": "code",
      "source": [
        "# Get the base dataset split into training and validation set\n",
        "!unzip ./gdrive/MyDrive/DSD_Split.zip -d ./"
      ],
      "metadata": {
        "id": "QEIk4FQCs7IL"
      },
      "execution_count": null,
      "outputs": []
    },
    {
      "cell_type": "code",
      "source": [
        "# More appropriate name since we are not only using DSD data\n",
        "!mv DSD100/ dataset/"
      ],
      "metadata": {
        "id": "mBgtmeUarywm",
        "colab": {
          "base_uri": "https://localhost:8080/"
        },
        "outputId": "dfd7b0e4-5fd8-4234-a663-8ca2d2410f17"
      },
      "execution_count": null,
      "outputs": [
        {
          "output_type": "stream",
          "name": "stdout",
          "text": [
            "mv: cannot stat 'DSD100/': No such file or directory\n"
          ]
        }
      ]
    },
    {
      "cell_type": "code",
      "source": [
        "from lib import nets"
      ],
      "metadata": {
        "id": "TyKn17uGQDqJ"
      },
      "execution_count": null,
      "outputs": []
    },
    {
      "cell_type": "code",
      "source": [
        "!pip install -r ./gdrive/MyDrive/vocal-remover/requirements.txt"
      ],
      "metadata": {
        "id": "NbWrklV5K3YO"
      },
      "execution_count": null,
      "outputs": []
    },
    {
      "cell_type": "code",
      "execution_count": null,
      "metadata": {
        "id": "ybeiZFvYImsV"
      },
      "outputs": [],
      "source": [
        "import hopsworks\n",
        "import torch\n",
        "import os\n",
        "import joblib\n",
        "import hsml\n"
      ]
    },
    {
      "cell_type": "code",
      "source": [
        "# connect with Hopsworks\n",
        "project = hopsworks.login()\n",
        "\n",
        "# get Hopsworks Model Registry\n",
        "mr = project.get_model_registry()\n",
        "\n",
        "# get model object, set wanted version or change to get_best_model(),\n",
        "model = mr.get_model(\"vocal_remover\", version=3)\n",
        "\n"
      ],
      "metadata": {
        "id": "1eqKuCbSVl6W"
      },
      "execution_count": null,
      "outputs": []
    },
    {
      "cell_type": "code",
      "source": [
        "model_path = model.download()\n"
      ],
      "metadata": {
        "id": "SXWFnnjV39Zv"
      },
      "execution_count": null,
      "outputs": []
    },
    {
      "cell_type": "code",
      "source": [
        "print(model_path)\n",
        "!ls $model_path"
      ],
      "metadata": {
        "id": "WOnfKrc157By"
      },
      "execution_count": null,
      "outputs": []
    },
    {
      "cell_type": "code",
      "source": [
        "model_path_pth = model_path + \"/vocal_model.pth\""
      ],
      "metadata": {
        "id": "rqKDC9nP6Y7a"
      },
      "execution_count": null,
      "outputs": []
    },
    {
      "cell_type": "code",
      "source": [
        "# Feature pipeline, check if the name of the module is still correct.\n",
        "import youtube_downloader as ydwn"
      ],
      "metadata": {
        "id": "DvkMU0AP8F8Z"
      },
      "execution_count": null,
      "outputs": []
    },
    {
      "cell_type": "code",
      "source": [
        "# Youtube downloader command line tool\n",
        "!pip install yt-dlp"
      ],
      "metadata": {
        "id": "85eXl9UT-znX"
      },
      "execution_count": null,
      "outputs": []
    },
    {
      "cell_type": "code",
      "source": [
        "yd = ydwn.YoutubeDownloader()\n",
        "yd.download()\n",
        "yd.trim_files()"
      ],
      "metadata": {
        "id": "-WGuoU5Q-VC3"
      },
      "execution_count": null,
      "outputs": []
    },
    {
      "cell_type": "code",
      "source": [
        "# check amount of songs, should be same amount. \n",
        "# Important! Remember to fix so that every mixture has a match in instruments and vice versa, the downloader might not have gotten all mixtures/instrumentals.\n",
        "!ls ./dataset/instruments | wc -l\n",
        "!ls ./dataset/mixtures | wc -l"
      ],
      "metadata": {
        "id": "fQAlMJmfDRj5"
      },
      "execution_count": null,
      "outputs": []
    },
    {
      "cell_type": "code",
      "source": [
        "# Temp ugly fix\n",
        "!mv ./dataset/instruments/* ./dataset/training/instruments\n",
        "!mv ./dataset/mixtures/* ./dataset/training/mixtures"
      ],
      "metadata": {
        "id": "i8NKik2ywia5"
      },
      "execution_count": null,
      "outputs": []
    },
    {
      "cell_type": "code",
      "source": [
        "# required for the model to save\n",
        "!mkdir models"
      ],
      "metadata": {
        "id": "u9ks3HemynMe"
      },
      "execution_count": null,
      "outputs": []
    },
    {
      "cell_type": "code",
      "source": [
        "# train\n",
        "!python3 ./gdrive/MyDrive/vocal-remover/train.py --dataset ./dataset/ --reduction_rate 0.5 --mixup_rate 0.5 --gpu 0 --epoch 30 --num_workers 4 --pretrained_model $model_path_pth --split_mode subdirs"
      ],
      "metadata": {
        "id": "m9XF7o8EC7gg"
      },
      "execution_count": null,
      "outputs": []
    },
    {
      "cell_type": "code",
      "source": [
        "import os\n",
        "model_dir = \"vocal_remover_model\"\n",
        "if not os.path.isdir(model_dir):\n",
        "    os.mkdir(model_dir)"
      ],
      "metadata": {
        "id": "lAiZyYeXj5ST"
      },
      "execution_count": null,
      "outputs": []
    },
    {
      "cell_type": "code",
      "source": [
        "n_fft = 2048\n",
        "modelType = nets.CascadedNet(n_fft, 32, 128)\n",
        "# Choose the best performing model from models directory, check logs if uncertain which is best\n",
        "# Example: \n",
        "best_model_path = \"./models/model_iter24.pth\"\n",
        "new_model = modelType.load_state_dict(torch.load(best_model_path, map_location=torch.device('cpu')))\n"
      ],
      "metadata": {
        "id": "JB52piI_LmZy"
      },
      "execution_count": null,
      "outputs": []
    },
    {
      "cell_type": "code",
      "source": [
        "# Save model to model_dir, the contents of model_di\n",
        "torch.save(new_model.state_dict(), model_dir + \"/vocal_model.pth\" )"
      ],
      "metadata": {
        "id": "_nk_iVzCjvwE"
      },
      "execution_count": null,
      "outputs": []
    },
    {
      "cell_type": "code",
      "source": [
        "print(model_path)\n",
        "!ls $model_path"
      ],
      "metadata": {
        "id": "jl5mzvq_ll3-"
      },
      "execution_count": null,
      "outputs": []
    },
    {
      "cell_type": "code",
      "source": [
        "from hsml.schema import Schema\n",
        "from hsml.model_schema import ModelSchema\n",
        "import numpy as np"
      ],
      "metadata": {
        "id": "IbJMIK9Kqo7Q"
      },
      "execution_count": null,
      "outputs": []
    },
    {
      "cell_type": "code",
      "source": [
        "# Use the data to create schema, input and output have same format\n",
        "input_schema = Schema(np.load(\"./dataset/training/instruments/sr44100_hl1024_nf2048/001_inst.npy\"))\n",
        "output_schema = Schema(np.load(\"./dataset/training/instruments/sr44100_hl1024_nf2048/001_inst.npy\"))\n",
        "model_schema = ModelSchema(input_schema, output_schema)"
      ],
      "metadata": {
        "id": "TvWJ2wuPqltu"
      },
      "execution_count": null,
      "outputs": []
    },
    {
      "cell_type": "code",
      "source": [
        "print(input_schema)\n",
        "print(output_schema)\n",
        "print(model_schema)"
      ],
      "metadata": {
        "id": "M6uC2L1Vq6Wn"
      },
      "execution_count": null,
      "outputs": []
    },
    {
      "cell_type": "code",
      "source": [
        "# Create the model using the hopsworks model registry\n",
        "# Remember to set correct version and validation loss, validation loss is available in training logs\n",
        "vocal_model = mr.python.create_model(\n",
        "        name=\"vocal_remover\",\n",
        "        # version=int(model_path[-1]) + 1,\n",
        "        version = 3,\n",
        "        metrics={\"validation_loss\": 0.000268},\n",
        "        model_schema=model_schema,\n",
        "        description=\"Remove vocal from song audio file\",\n",
        "    )"
      ],
      "metadata": {
        "id": "0OkJnpu1kmf-"
      },
      "execution_count": null,
      "outputs": []
    },
    {
      "cell_type": "code",
      "source": [
        "vocal_model.save(model_dir)"
      ],
      "metadata": {
        "id": "zh5F4bZKS2kd",
        "colab": {
          "base_uri": "https://localhost:8080/",
          "height": 85,
          "referenced_widgets": [
            "25eaf9e186724faca36f81e8395bf498",
            "87f063da8e2643fe951446cd56502bed",
            "f66b88f5b756449584d4f34eeaf0173d",
            "7d6a05f217f64194a9cb5547434489ce",
            "78666116f7ad41b4b3dd14af93d0a693",
            "dfd935e7fbdc437f9d66ed781b06a71c",
            "d2fe9a6260e6407a8aba449e5b72c8b2",
            "b826b55cef1c48b0a9cb51b5c0b7f414",
            "d53cb346c75d4de0aad6d3750f2c6910",
            "1dc69846dee348618d642fe7eaf67170",
            "d2c0b1de5b1f4e659fb8bdbb6716d15f"
          ]
        },
        "outputId": "4ea9f088-5b20-436f-e6a6-7cc92f7fabc4"
      },
      "execution_count": null,
      "outputs": [
        {
          "output_type": "display_data",
          "data": {
            "text/plain": [
              "  0%|          | 0/6 [00:00<?, ?it/s]"
            ],
            "application/vnd.jupyter.widget-view+json": {
              "version_major": 2,
              "version_minor": 0,
              "model_id": "25eaf9e186724faca36f81e8395bf498"
            }
          },
          "metadata": {}
        },
        {
          "output_type": "stream",
          "name": "stdout",
          "text": [
            "Model created, explore it at https://c.app.hopsworks.ai:443/p/4243/models/vocal_remover/3\n"
          ]
        },
        {
          "output_type": "execute_result",
          "data": {
            "text/plain": [
              "Model(name: 'vocal_remover', version: 3)"
            ]
          },
          "metadata": {},
          "execution_count": 18
        }
      ]
    }
  ]
}