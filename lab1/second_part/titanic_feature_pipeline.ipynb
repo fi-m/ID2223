{
  "cells": [
    {
      "cell_type": "code",
      "execution_count": 95,
      "metadata": {
        "colab": {
          "base_uri": "https://localhost:8080/"
        },
        "id": "PIVYAwj_r6jT",
        "outputId": "18e5c768-0cda-4c3a-b954-3322d6c78260"
      },
      "outputs": [
        {
          "output_type": "stream",
          "name": "stdout",
          "text": [
            "Looking in indexes: https://pypi.org/simple, https://us-python.pkg.dev/colab-wheels/public/simple/\n",
            "Requirement already satisfied: hopsworks in /usr/local/lib/python3.7/dist-packages (3.0.4)\n",
            "Requirement already satisfied: tqdm in /usr/local/lib/python3.7/dist-packages (from hopsworks) (4.64.1)\n",
            "Requirement already satisfied: boto3 in /usr/local/lib/python3.7/dist-packages (from hopsworks) (1.26.3)\n",
            "Requirement already satisfied: requests in /usr/local/lib/python3.7/dist-packages (from hopsworks) (2.28.1)\n",
            "Requirement already satisfied: hsml<3.1.0,>=3.0.0 in /usr/local/lib/python3.7/dist-packages (from hopsworks) (3.0.3)\n",
            "Requirement already satisfied: pyjks in /usr/local/lib/python3.7/dist-packages (from hopsworks) (20.0.0)\n",
            "Requirement already satisfied: pyhumps==1.6.1 in /usr/local/lib/python3.7/dist-packages (from hopsworks) (1.6.1)\n",
            "Requirement already satisfied: mock in /usr/local/lib/python3.7/dist-packages (from hopsworks) (4.0.3)\n",
            "Requirement already satisfied: hsfs[python]<3.1.0,>=3.0.0 in /usr/local/lib/python3.7/dist-packages (from hopsworks) (3.0.4)\n",
            "Requirement already satisfied: furl in /usr/local/lib/python3.7/dist-packages (from hopsworks) (2.1.3)\n",
            "Requirement already satisfied: avro==1.10.2 in /usr/local/lib/python3.7/dist-packages (from hsfs[python]<3.1.0,>=3.0.0->hopsworks) (1.10.2)\n",
            "Requirement already satisfied: markupsafe<2.1.0 in /usr/local/lib/python3.7/dist-packages (from hsfs[python]<3.1.0,>=3.0.0->hopsworks) (2.0.1)\n",
            "Requirement already satisfied: PyMySQL[rsa] in /usr/local/lib/python3.7/dist-packages (from hsfs[python]<3.1.0,>=3.0.0->hopsworks) (1.0.2)\n",
            "Requirement already satisfied: great-expectations==0.14.12 in /usr/local/lib/python3.7/dist-packages (from hsfs[python]<3.1.0,>=3.0.0->hopsworks) (0.14.12)\n",
            "Requirement already satisfied: numpy in /usr/local/lib/python3.7/dist-packages (from hsfs[python]<3.1.0,>=3.0.0->hopsworks) (1.21.6)\n",
            "Requirement already satisfied: pandas>=1.2.0 in /usr/local/lib/python3.7/dist-packages (from hsfs[python]<3.1.0,>=3.0.0->hopsworks) (1.3.5)\n",
            "Requirement already satisfied: sqlalchemy in /usr/local/lib/python3.7/dist-packages (from hsfs[python]<3.1.0,>=3.0.0->hopsworks) (1.4.43)\n",
            "Requirement already satisfied: pyhopshive[thrift] in /usr/local/lib/python3.7/dist-packages (from hsfs[python]<3.1.0,>=3.0.0->hopsworks) (0.6.4.1.dev0)\n",
            "Requirement already satisfied: confluent-kafka==1.8.2 in /usr/local/lib/python3.7/dist-packages (from hsfs[python]<3.1.0,>=3.0.0->hopsworks) (1.8.2)\n",
            "Requirement already satisfied: pyarrow in /usr/local/lib/python3.7/dist-packages (from hsfs[python]<3.1.0,>=3.0.0->hopsworks) (10.0.0)\n",
            "Requirement already satisfied: fastavro==1.4.11 in /usr/local/lib/python3.7/dist-packages (from hsfs[python]<3.1.0,>=3.0.0->hopsworks) (1.4.11)\n",
            "Requirement already satisfied: tzlocal>=1.2 in /usr/local/lib/python3.7/dist-packages (from great-expectations==0.14.12->hsfs[python]<3.1.0,>=3.0.0->hopsworks) (4.2)\n",
            "Requirement already satisfied: jsonpatch>=1.22 in /usr/local/lib/python3.7/dist-packages (from great-expectations==0.14.12->hsfs[python]<3.1.0,>=3.0.0->hopsworks) (1.32)\n",
            "Requirement already satisfied: python-dateutil>=2.8.1 in /usr/local/lib/python3.7/dist-packages (from great-expectations==0.14.12->hsfs[python]<3.1.0,>=3.0.0->hopsworks) (2.8.2)\n",
            "Requirement already satisfied: termcolor>=1.1.0 in /usr/local/lib/python3.7/dist-packages (from great-expectations==0.14.12->hsfs[python]<3.1.0,>=3.0.0->hopsworks) (2.1.0)\n",
            "Requirement already satisfied: Click>=7.1.2 in /usr/local/lib/python3.7/dist-packages (from great-expectations==0.14.12->hsfs[python]<3.1.0,>=3.0.0->hopsworks) (8.1.3)\n",
            "Requirement already satisfied: jinja2<3.1.0,>=2.10 in /usr/local/lib/python3.7/dist-packages (from great-expectations==0.14.12->hsfs[python]<3.1.0,>=3.0.0->hopsworks) (3.0.3)\n",
            "Requirement already satisfied: colorama>=0.4.3 in /usr/local/lib/python3.7/dist-packages (from great-expectations==0.14.12->hsfs[python]<3.1.0,>=3.0.0->hopsworks) (0.4.6)\n",
            "Requirement already satisfied: scipy>=0.19.0 in /usr/local/lib/python3.7/dist-packages (from great-expectations==0.14.12->hsfs[python]<3.1.0,>=3.0.0->hopsworks) (1.7.3)\n",
            "Requirement already satisfied: nbformat>=5.0 in /usr/local/lib/python3.7/dist-packages (from great-expectations==0.14.12->hsfs[python]<3.1.0,>=3.0.0->hopsworks) (5.7.0)\n",
            "Requirement already satisfied: urllib3<1.27,>=1.25.4 in /usr/local/lib/python3.7/dist-packages (from great-expectations==0.14.12->hsfs[python]<3.1.0,>=3.0.0->hopsworks) (1.26.12)\n",
            "Requirement already satisfied: packaging in /usr/local/lib/python3.7/dist-packages (from great-expectations==0.14.12->hsfs[python]<3.1.0,>=3.0.0->hopsworks) (21.3)\n",
            "Requirement already satisfied: mistune<2.0.0,>=0.8.4 in /usr/local/lib/python3.7/dist-packages (from great-expectations==0.14.12->hsfs[python]<3.1.0,>=3.0.0->hopsworks) (0.8.4)\n",
            "Requirement already satisfied: altair<5,>=4.0.0 in /usr/local/lib/python3.7/dist-packages (from great-expectations==0.14.12->hsfs[python]<3.1.0,>=3.0.0->hopsworks) (4.2.0)\n",
            "Requirement already satisfied: importlib-metadata>=1.7.0 in /usr/local/lib/python3.7/dist-packages (from great-expectations==0.14.12->hsfs[python]<3.1.0,>=3.0.0->hopsworks) (5.0.0)\n",
            "Requirement already satisfied: pyparsing<3,>=2.4 in /usr/local/lib/python3.7/dist-packages (from great-expectations==0.14.12->hsfs[python]<3.1.0,>=3.0.0->hopsworks) (2.4.7)\n",
            "Requirement already satisfied: cryptography>=3.2 in /usr/local/lib/python3.7/dist-packages (from great-expectations==0.14.12->hsfs[python]<3.1.0,>=3.0.0->hopsworks) (38.0.3)\n",
            "Requirement already satisfied: ruamel.yaml<0.17.18,>=0.16 in /usr/local/lib/python3.7/dist-packages (from great-expectations==0.14.12->hsfs[python]<3.1.0,>=3.0.0->hopsworks) (0.17.17)\n",
            "Requirement already satisfied: typing-extensions>=3.10.0.0 in /usr/local/lib/python3.7/dist-packages (from great-expectations==0.14.12->hsfs[python]<3.1.0,>=3.0.0->hopsworks) (4.4.0)\n",
            "Requirement already satisfied: ipywidgets>=7.5.1 in /usr/local/lib/python3.7/dist-packages (from great-expectations==0.14.12->hsfs[python]<3.1.0,>=3.0.0->hopsworks) (8.0.2)\n",
            "Requirement already satisfied: jsonschema>=2.5.1 in /usr/local/lib/python3.7/dist-packages (from great-expectations==0.14.12->hsfs[python]<3.1.0,>=3.0.0->hopsworks) (4.17.0)\n",
            "Requirement already satisfied: pytz>=2021.3 in /usr/local/lib/python3.7/dist-packages (from great-expectations==0.14.12->hsfs[python]<3.1.0,>=3.0.0->hopsworks) (2022.6)\n",
            "Requirement already satisfied: toolz in /usr/local/lib/python3.7/dist-packages (from altair<5,>=4.0.0->great-expectations==0.14.12->hsfs[python]<3.1.0,>=3.0.0->hopsworks) (0.12.0)\n",
            "Requirement already satisfied: entrypoints in /usr/local/lib/python3.7/dist-packages (from altair<5,>=4.0.0->great-expectations==0.14.12->hsfs[python]<3.1.0,>=3.0.0->hopsworks) (0.4)\n",
            "Requirement already satisfied: cffi>=1.12 in /usr/local/lib/python3.7/dist-packages (from cryptography>=3.2->great-expectations==0.14.12->hsfs[python]<3.1.0,>=3.0.0->hopsworks) (1.15.1)\n",
            "Requirement already satisfied: pycparser in /usr/local/lib/python3.7/dist-packages (from cffi>=1.12->cryptography>=3.2->great-expectations==0.14.12->hsfs[python]<3.1.0,>=3.0.0->hopsworks) (2.21)\n",
            "Requirement already satisfied: zipp>=0.5 in /usr/local/lib/python3.7/dist-packages (from importlib-metadata>=1.7.0->great-expectations==0.14.12->hsfs[python]<3.1.0,>=3.0.0->hopsworks) (3.10.0)\n",
            "Requirement already satisfied: ipykernel>=4.5.1 in /usr/local/lib/python3.7/dist-packages (from ipywidgets>=7.5.1->great-expectations==0.14.12->hsfs[python]<3.1.0,>=3.0.0->hopsworks) (6.16.2)\n",
            "Requirement already satisfied: ipython>=6.1.0 in /usr/local/lib/python3.7/dist-packages (from ipywidgets>=7.5.1->great-expectations==0.14.12->hsfs[python]<3.1.0,>=3.0.0->hopsworks) (7.34.0)\n",
            "Requirement already satisfied: jupyterlab-widgets~=3.0 in /usr/local/lib/python3.7/dist-packages (from ipywidgets>=7.5.1->great-expectations==0.14.12->hsfs[python]<3.1.0,>=3.0.0->hopsworks) (3.0.3)\n",
            "Requirement already satisfied: widgetsnbextension~=4.0 in /usr/local/lib/python3.7/dist-packages (from ipywidgets>=7.5.1->great-expectations==0.14.12->hsfs[python]<3.1.0,>=3.0.0->hopsworks) (4.0.3)\n",
            "Requirement already satisfied: traitlets>=4.3.1 in /usr/local/lib/python3.7/dist-packages (from ipywidgets>=7.5.1->great-expectations==0.14.12->hsfs[python]<3.1.0,>=3.0.0->hopsworks) (5.5.0)\n",
            "Requirement already satisfied: nest-asyncio in /usr/local/lib/python3.7/dist-packages (from ipykernel>=4.5.1->ipywidgets>=7.5.1->great-expectations==0.14.12->hsfs[python]<3.1.0,>=3.0.0->hopsworks) (1.5.6)\n",
            "Requirement already satisfied: psutil in /usr/local/lib/python3.7/dist-packages (from ipykernel>=4.5.1->ipywidgets>=7.5.1->great-expectations==0.14.12->hsfs[python]<3.1.0,>=3.0.0->hopsworks) (5.9.3)\n",
            "Requirement already satisfied: matplotlib-inline>=0.1 in /usr/local/lib/python3.7/dist-packages (from ipykernel>=4.5.1->ipywidgets>=7.5.1->great-expectations==0.14.12->hsfs[python]<3.1.0,>=3.0.0->hopsworks) (0.1.6)\n",
            "Requirement already satisfied: pyzmq>=17 in /usr/local/lib/python3.7/dist-packages (from ipykernel>=4.5.1->ipywidgets>=7.5.1->great-expectations==0.14.12->hsfs[python]<3.1.0,>=3.0.0->hopsworks) (24.0.1)\n",
            "Requirement already satisfied: jupyter-client>=6.1.12 in /usr/local/lib/python3.7/dist-packages (from ipykernel>=4.5.1->ipywidgets>=7.5.1->great-expectations==0.14.12->hsfs[python]<3.1.0,>=3.0.0->hopsworks) (7.4.4)\n",
            "Requirement already satisfied: tornado>=6.1 in /usr/local/lib/python3.7/dist-packages (from ipykernel>=4.5.1->ipywidgets>=7.5.1->great-expectations==0.14.12->hsfs[python]<3.1.0,>=3.0.0->hopsworks) (6.2)\n",
            "Requirement already satisfied: debugpy>=1.0 in /usr/local/lib/python3.7/dist-packages (from ipykernel>=4.5.1->ipywidgets>=7.5.1->great-expectations==0.14.12->hsfs[python]<3.1.0,>=3.0.0->hopsworks) (1.6.3)\n",
            "Requirement already satisfied: pexpect>4.3 in /usr/local/lib/python3.7/dist-packages (from ipython>=6.1.0->ipywidgets>=7.5.1->great-expectations==0.14.12->hsfs[python]<3.1.0,>=3.0.0->hopsworks) (4.8.0)\n",
            "Requirement already satisfied: decorator in /usr/local/lib/python3.7/dist-packages (from ipython>=6.1.0->ipywidgets>=7.5.1->great-expectations==0.14.12->hsfs[python]<3.1.0,>=3.0.0->hopsworks) (5.1.1)\n",
            "Requirement already satisfied: prompt-toolkit!=3.0.0,!=3.0.1,<3.1.0,>=2.0.0 in /usr/local/lib/python3.7/dist-packages (from ipython>=6.1.0->ipywidgets>=7.5.1->great-expectations==0.14.12->hsfs[python]<3.1.0,>=3.0.0->hopsworks) (3.0.32)\n",
            "Requirement already satisfied: setuptools>=18.5 in /usr/local/lib/python3.7/dist-packages (from ipython>=6.1.0->ipywidgets>=7.5.1->great-expectations==0.14.12->hsfs[python]<3.1.0,>=3.0.0->hopsworks) (65.5.1)\n",
            "Requirement already satisfied: pickleshare in /usr/local/lib/python3.7/dist-packages (from ipython>=6.1.0->ipywidgets>=7.5.1->great-expectations==0.14.12->hsfs[python]<3.1.0,>=3.0.0->hopsworks) (0.7.5)\n",
            "Requirement already satisfied: pygments in /usr/local/lib/python3.7/dist-packages (from ipython>=6.1.0->ipywidgets>=7.5.1->great-expectations==0.14.12->hsfs[python]<3.1.0,>=3.0.0->hopsworks) (2.13.0)\n",
            "Requirement already satisfied: backcall in /usr/local/lib/python3.7/dist-packages (from ipython>=6.1.0->ipywidgets>=7.5.1->great-expectations==0.14.12->hsfs[python]<3.1.0,>=3.0.0->hopsworks) (0.2.0)\n",
            "Requirement already satisfied: jedi>=0.16 in /usr/local/lib/python3.7/dist-packages (from ipython>=6.1.0->ipywidgets>=7.5.1->great-expectations==0.14.12->hsfs[python]<3.1.0,>=3.0.0->hopsworks) (0.18.1)\n",
            "Requirement already satisfied: parso<0.9.0,>=0.8.0 in /usr/local/lib/python3.7/dist-packages (from jedi>=0.16->ipython>=6.1.0->ipywidgets>=7.5.1->great-expectations==0.14.12->hsfs[python]<3.1.0,>=3.0.0->hopsworks) (0.8.3)\n",
            "Requirement already satisfied: jsonpointer>=1.9 in /usr/local/lib/python3.7/dist-packages (from jsonpatch>=1.22->great-expectations==0.14.12->hsfs[python]<3.1.0,>=3.0.0->hopsworks) (2.3)\n",
            "Requirement already satisfied: importlib-resources>=1.4.0 in /usr/local/lib/python3.7/dist-packages (from jsonschema>=2.5.1->great-expectations==0.14.12->hsfs[python]<3.1.0,>=3.0.0->hopsworks) (5.10.0)\n",
            "Requirement already satisfied: attrs>=17.4.0 in /usr/local/lib/python3.7/dist-packages (from jsonschema>=2.5.1->great-expectations==0.14.12->hsfs[python]<3.1.0,>=3.0.0->hopsworks) (22.1.0)\n",
            "Requirement already satisfied: pyrsistent!=0.17.0,!=0.17.1,!=0.17.2,>=0.14.0 in /usr/local/lib/python3.7/dist-packages (from jsonschema>=2.5.1->great-expectations==0.14.12->hsfs[python]<3.1.0,>=3.0.0->hopsworks) (0.19.2)\n",
            "Requirement already satisfied: pkgutil-resolve-name>=1.3.10 in /usr/local/lib/python3.7/dist-packages (from jsonschema>=2.5.1->great-expectations==0.14.12->hsfs[python]<3.1.0,>=3.0.0->hopsworks) (1.3.10)\n",
            "Requirement already satisfied: jupyter-core>=4.9.2 in /usr/local/lib/python3.7/dist-packages (from jupyter-client>=6.1.12->ipykernel>=4.5.1->ipywidgets>=7.5.1->great-expectations==0.14.12->hsfs[python]<3.1.0,>=3.0.0->hopsworks) (4.11.2)\n",
            "Requirement already satisfied: fastjsonschema in /usr/local/lib/python3.7/dist-packages (from nbformat>=5.0->great-expectations==0.14.12->hsfs[python]<3.1.0,>=3.0.0->hopsworks) (2.16.2)\n",
            "Requirement already satisfied: ptyprocess>=0.5 in /usr/local/lib/python3.7/dist-packages (from pexpect>4.3->ipython>=6.1.0->ipywidgets>=7.5.1->great-expectations==0.14.12->hsfs[python]<3.1.0,>=3.0.0->hopsworks) (0.7.0)\n",
            "Requirement already satisfied: wcwidth in /usr/local/lib/python3.7/dist-packages (from prompt-toolkit!=3.0.0,!=3.0.1,<3.1.0,>=2.0.0->ipython>=6.1.0->ipywidgets>=7.5.1->great-expectations==0.14.12->hsfs[python]<3.1.0,>=3.0.0->hopsworks) (0.2.5)\n",
            "Requirement already satisfied: six>=1.5 in /usr/local/lib/python3.7/dist-packages (from python-dateutil>=2.8.1->great-expectations==0.14.12->hsfs[python]<3.1.0,>=3.0.0->hopsworks) (1.16.0)\n",
            "Requirement already satisfied: certifi>=2017.4.17 in /usr/local/lib/python3.7/dist-packages (from requests->hopsworks) (2022.9.24)\n",
            "Requirement already satisfied: idna<4,>=2.5 in /usr/local/lib/python3.7/dist-packages (from requests->hopsworks) (3.4)\n",
            "Requirement already satisfied: charset-normalizer<3,>=2 in /usr/local/lib/python3.7/dist-packages (from requests->hopsworks) (2.1.1)\n",
            "Requirement already satisfied: ruamel.yaml.clib>=0.1.2 in /usr/local/lib/python3.7/dist-packages (from ruamel.yaml<0.17.18,>=0.16->great-expectations==0.14.12->hsfs[python]<3.1.0,>=3.0.0->hopsworks) (0.2.7)\n",
            "Requirement already satisfied: pytz-deprecation-shim in /usr/local/lib/python3.7/dist-packages (from tzlocal>=1.2->great-expectations==0.14.12->hsfs[python]<3.1.0,>=3.0.0->hopsworks) (0.1.0.post0)\n",
            "Requirement already satisfied: backports.zoneinfo in /usr/local/lib/python3.7/dist-packages (from tzlocal>=1.2->great-expectations==0.14.12->hsfs[python]<3.1.0,>=3.0.0->hopsworks) (0.2.1)\n",
            "Requirement already satisfied: jmespath<2.0.0,>=0.7.1 in /usr/local/lib/python3.7/dist-packages (from boto3->hopsworks) (1.0.1)\n",
            "Requirement already satisfied: s3transfer<0.7.0,>=0.6.0 in /usr/local/lib/python3.7/dist-packages (from boto3->hopsworks) (0.6.0)\n",
            "Requirement already satisfied: botocore<1.30.0,>=1.29.3 in /usr/local/lib/python3.7/dist-packages (from boto3->hopsworks) (1.29.3)\n",
            "Requirement already satisfied: orderedmultidict>=1.0.1 in /usr/local/lib/python3.7/dist-packages (from furl->hopsworks) (1.0.1)\n",
            "Requirement already satisfied: future in /usr/local/lib/python3.7/dist-packages (from pyhopshive[thrift]->hsfs[python]<3.1.0,>=3.0.0->hopsworks) (0.18.2)\n",
            "Requirement already satisfied: thrift>=0.10.0 in /usr/local/lib/python3.7/dist-packages (from pyhopshive[thrift]->hsfs[python]<3.1.0,>=3.0.0->hopsworks) (0.16.0)\n",
            "Requirement already satisfied: javaobj-py3 in /usr/local/lib/python3.7/dist-packages (from pyjks->hopsworks) (0.4.3)\n",
            "Requirement already satisfied: twofish in /usr/local/lib/python3.7/dist-packages (from pyjks->hopsworks) (0.3.0)\n",
            "Requirement already satisfied: pyasn1>=0.3.5 in /usr/local/lib/python3.7/dist-packages (from pyjks->hopsworks) (0.4.8)\n",
            "Requirement already satisfied: pyasn1-modules in /usr/local/lib/python3.7/dist-packages (from pyjks->hopsworks) (0.2.8)\n",
            "Requirement already satisfied: pycryptodomex in /usr/local/lib/python3.7/dist-packages (from pyjks->hopsworks) (3.15.0)\n",
            "Requirement already satisfied: tzdata in /usr/local/lib/python3.7/dist-packages (from pytz-deprecation-shim->tzlocal>=1.2->great-expectations==0.14.12->hsfs[python]<3.1.0,>=3.0.0->hopsworks) (2022.6)\n",
            "Requirement already satisfied: greenlet!=0.4.17 in /usr/local/lib/python3.7/dist-packages (from sqlalchemy->hsfs[python]<3.1.0,>=3.0.0->hopsworks) (2.0.1)\n",
            "/usr/bin/python3\n"
          ]
        }
      ],
      "source": [
        "#!pip3 install -I -r requirements.txt --quiet\n",
        "!pip3 install hopsworks\n",
        "!which python3\n",
        "# Test hopsworks\n",
        "try:\n",
        "   import hopsworks\n",
        "except ImportError:\n",
        "   print()\n",
        "   print(\"Hopsworks module not found!\")"
      ]
    },
    {
      "cell_type": "markdown",
      "metadata": {
        "id": "3cGwItyEr6jW"
      },
      "source": [
        "# Load the traning data\n",
        "Done locally from `./titanic.csv`"
      ]
    },
    {
      "cell_type": "code",
      "execution_count": 133,
      "metadata": {
        "id": "rGSpP22Er6jY",
        "outputId": "b4b0def2-0ec7-490f-f5eb-fd7ce671e0ee",
        "colab": {
          "base_uri": "https://localhost:8080/"
        }
      },
      "outputs": [
        {
          "output_type": "execute_result",
          "data": {
            "text/plain": [
              "0               A/5 21171\n",
              "1                PC 17599\n",
              "2        STON/O2. 3101282\n",
              "3                  113803\n",
              "4                  373450\n",
              "5                  330877\n",
              "6                   17463\n",
              "7                  349909\n",
              "8                  347742\n",
              "9                  237736\n",
              "10                PP 9549\n",
              "11                 113783\n",
              "12              A/5. 2151\n",
              "13                 347082\n",
              "14                 350406\n",
              "15                 248706\n",
              "16                 382652\n",
              "17                 244373\n",
              "18                 345763\n",
              "19                   2649\n",
              "20                 239865\n",
              "21                 248698\n",
              "22                 330923\n",
              "23                 113788\n",
              "24                 349909\n",
              "25                 347077\n",
              "26                   2631\n",
              "27                  19950\n",
              "28                 330959\n",
              "29                 349216\n",
              "30               PC 17601\n",
              "31               PC 17569\n",
              "32                 335677\n",
              "33             C.A. 24579\n",
              "34               PC 17604\n",
              "35                 113789\n",
              "36                   2677\n",
              "37             A./5. 2152\n",
              "38                 345764\n",
              "39                   2651\n",
              "40                   7546\n",
              "41                  11668\n",
              "42                 349253\n",
              "43          SC/Paris 2123\n",
              "44                 330958\n",
              "45        S.C./A.4. 23567\n",
              "46                 370371\n",
              "47                  14311\n",
              "48                   2662\n",
              "49                 349237\n",
              "50                3101295\n",
              "51             A/4. 39886\n",
              "52               PC 17572\n",
              "53                   2926\n",
              "54                 113509\n",
              "55                  19947\n",
              "56             C.A. 31026\n",
              "57                   2697\n",
              "58             C.A. 34651\n",
              "59                CA 2144\n",
              "60                   2669\n",
              "61                 113572\n",
              "62                  36973\n",
              "63                 347088\n",
              "64               PC 17605\n",
              "65                   2661\n",
              "66             C.A. 29395\n",
              "67              S.P. 3464\n",
              "68                3101281\n",
              "69                 315151\n",
              "70             C.A. 33111\n",
              "71                CA 2144\n",
              "72           S.O.C. 14879\n",
              "73                   2680\n",
              "74                   1601\n",
              "75                 348123\n",
              "76                 349208\n",
              "77                 374746\n",
              "78                 248738\n",
              "79                 364516\n",
              "80                 345767\n",
              "81                 345779\n",
              "82                 330932\n",
              "83                 113059\n",
              "84             SO/C 14885\n",
              "85                3101278\n",
              "86             W./C. 6608\n",
              "87        SOTON/OQ 392086\n",
              "88                  19950\n",
              "89                 343275\n",
              "90                 343276\n",
              "91                 347466\n",
              "92            W.E.P. 5734\n",
              "93              C.A. 2315\n",
              "94                 364500\n",
              "95                 374910\n",
              "96               PC 17754\n",
              "97               PC 17759\n",
              "98                 231919\n",
              "99                 244367\n",
              "100                349245\n",
              "101                349215\n",
              "102                 35281\n",
              "103                  7540\n",
              "104               3101276\n",
              "105                349207\n",
              "106                343120\n",
              "107                312991\n",
              "108                349249\n",
              "109                371110\n",
              "110                110465\n",
              "111                  2665\n",
              "112                324669\n",
              "113                  4136\n",
              "114                  2627\n",
              "115     STON/O 2. 3101294\n",
              "116                370369\n",
              "117                 11668\n",
              "118              PC 17558\n",
              "119                347082\n",
              "120          S.O.C. 14879\n",
              "121             A4. 54510\n",
              "122                237736\n",
              "123                 27267\n",
              "124                 35281\n",
              "125                  2651\n",
              "126                370372\n",
              "127               C 17369\n",
              "128                  2668\n",
              "129                347061\n",
              "130                349241\n",
              "131    SOTON/O.Q. 3101307\n",
              "132             A/5. 3337\n",
              "133                228414\n",
              "134            C.A. 29178\n",
              "135         SC/PARIS 2133\n",
              "136                 11752\n",
              "137                113803\n",
              "138                  7534\n",
              "139              PC 17593\n",
              "140                  2678\n",
              "141                347081\n",
              "142      STON/O2. 3101279\n",
              "143                365222\n",
              "144                231945\n",
              "145            C.A. 33112\n",
              "146                350043\n",
              "147            W./C. 6608\n",
              "148                230080\n",
              "149                244310\n",
              "150           S.O.P. 1166\n",
              "151                113776\n",
              "152            A.5. 11206\n",
              "153              A/5. 851\n",
              "154             Fa 265302\n",
              "155              PC 17597\n",
              "156                 35851\n",
              "157       SOTON/OQ 392090\n",
              "158                315037\n",
              "159              CA. 2343\n",
              "160                371362\n",
              "161            C.A. 33595\n",
              "162                347068\n",
              "163                315093\n",
              "164               3101295\n",
              "165                363291\n",
              "166                113505\n",
              "167                347088\n",
              "168              PC 17318\n",
              "169                  1601\n",
              "170                111240\n",
              "171                382652\n",
              "172                347742\n",
              "173     STON/O 2. 3101280\n",
              "174                 17764\n",
              "175                350404\n",
              "176                  4133\n",
              "177              PC 17595\n",
              "178                250653\n",
              "179                  LINE\n",
              "180              CA. 2343\n",
              "181         SC/PARIS 2131\n",
              "182                347077\n",
              "183                230136\n",
              "184                315153\n",
              "185                113767\n",
              "186                370365\n",
              "187                111428\n",
              "188                364849\n",
              "189                349247\n",
              "190                234604\n",
              "191                 28424\n",
              "192                350046\n",
              "193                230080\n",
              "194              PC 17610\n",
              "195              PC 17569\n",
              "196                368703\n",
              "197                  4579\n",
              "198                370370\n",
              "199                248747\n",
              "200                345770\n",
              "201              CA. 2343\n",
              "202               3101264\n",
              "203                  2628\n",
              "204              A/5 3540\n",
              "205                347054\n",
              "206               3101278\n",
              "207                  2699\n",
              "208                367231\n",
              "209                112277\n",
              "210    SOTON/O.Q. 3101311\n",
              "211          F.C.C. 13528\n",
              "212             A/5 21174\n",
              "213                250646\n",
              "214                367229\n",
              "215                 35273\n",
              "216      STON/O2. 3101283\n",
              "217                243847\n",
              "218                 11813\n",
              "219             W/C 14208\n",
              "220       SOTON/OQ 392089\n",
              "221                220367\n",
              "222                 21440\n",
              "223                349234\n",
              "224                 19943\n",
              "225               PP 4348\n",
              "226             SW/PP 751\n",
              "227             A/5 21173\n",
              "228                236171\n",
              "229                  4133\n",
              "230                 36973\n",
              "231                347067\n",
              "232                237442\n",
              "233                347077\n",
              "234            C.A. 29566\n",
              "235            W./C. 6609\n",
              "236                 26707\n",
              "237            C.A. 31921\n",
              "238                 28665\n",
              "239            SCO/W 1585\n",
              "240                  2665\n",
              "241                367230\n",
              "242           W./C. 14263\n",
              "243     STON/O 2. 3101275\n",
              "244                  2694\n",
              "245                 19928\n",
              "246                347071\n",
              "247                250649\n",
              "248                 11751\n",
              "249                244252\n",
              "250                362316\n",
              "251                347054\n",
              "252                113514\n",
              "253             A/5. 3336\n",
              "254                370129\n",
              "255                  2650\n",
              "256              PC 17585\n",
              "257                110152\n",
              "258              PC 17755\n",
              "259                230433\n",
              "260                384461\n",
              "261                347077\n",
              "262                110413\n",
              "263                112059\n",
              "264                382649\n",
              "265            C.A. 17248\n",
              "266               3101295\n",
              "267                347083\n",
              "268              PC 17582\n",
              "269              PC 17760\n",
              "270                113798\n",
              "271                  LINE\n",
              "272                250644\n",
              "273              PC 17596\n",
              "274                370375\n",
              "275                 13502\n",
              "276                347073\n",
              "277                239853\n",
              "278                382652\n",
              "279             C.A. 2673\n",
              "280                336439\n",
              "281                347464\n",
              "282                345778\n",
              "283            A/5. 10482\n",
              "284                113056\n",
              "285                349239\n",
              "286                345774\n",
              "287                349206\n",
              "288                237798\n",
              "289                370373\n",
              "290                 19877\n",
              "291                 11967\n",
              "292         SC/Paris 2163\n",
              "293                349236\n",
              "294                349233\n",
              "295              PC 17612\n",
              "296                  2693\n",
              "297                113781\n",
              "298                 19988\n",
              "299              PC 17558\n",
              "300                  9234\n",
              "301                367226\n",
              "302                  LINE\n",
              "303                226593\n",
              "304              A/5 2466\n",
              "305                113781\n",
              "306                 17421\n",
              "307              PC 17758\n",
              "308             P/PP 3381\n",
              "309              PC 17485\n",
              "310                 11767\n",
              "311              PC 17608\n",
              "312                250651\n",
              "313                349243\n",
              "314          F.C.C. 13529\n",
              "315                347470\n",
              "316                244367\n",
              "317                 29011\n",
              "318                 36928\n",
              "319                 16966\n",
              "320             A/5 21172\n",
              "321                349219\n",
              "322                234818\n",
              "323                248738\n",
              "324              CA. 2343\n",
              "325              PC 17760\n",
              "326                345364\n",
              "327                 28551\n",
              "328                363291\n",
              "329                111361\n",
              "330                367226\n",
              "331                113043\n",
              "332              PC 17582\n",
              "333                345764\n",
              "334              PC 17611\n",
              "335                349225\n",
              "336                113776\n",
              "337                 16966\n",
              "338                  7598\n",
              "339                113784\n",
              "340                230080\n",
              "341                 19950\n",
              "342                248740\n",
              "343                244361\n",
              "344                229236\n",
              "345                248733\n",
              "346                 31418\n",
              "347                386525\n",
              "348            C.A. 37671\n",
              "349                315088\n",
              "350                  7267\n",
              "351                113510\n",
              "352                  2695\n",
              "353                349237\n",
              "354                  2647\n",
              "355                345783\n",
              "356                113505\n",
              "357                237671\n",
              "358                330931\n",
              "359                330980\n",
              "360                347088\n",
              "361         SC/PARIS 2167\n",
              "362                  2691\n",
              "363    SOTON/O.Q. 3101310\n",
              "364                370365\n",
              "365                C 7076\n",
              "366                110813\n",
              "367                  2626\n",
              "368                 14313\n",
              "369              PC 17477\n",
              "370                 11765\n",
              "371               3101267\n",
              "372                323951\n",
              "373              PC 17760\n",
              "374                349909\n",
              "375              PC 17604\n",
              "376                C 7077\n",
              "377                113503\n",
              "378                  2648\n",
              "379                347069\n",
              "380              PC 17757\n",
              "381                  2653\n",
              "382     STON/O 2. 3101293\n",
              "383                113789\n",
              "384                349227\n",
              "385          S.O.C. 14879\n",
              "386               CA 2144\n",
              "387                 27849\n",
              "388                367655\n",
              "389               SC 1748\n",
              "390                113760\n",
              "391                350034\n",
              "392               3101277\n",
              "393                 35273\n",
              "394               PP 9549\n",
              "395                350052\n",
              "396                350407\n",
              "397                 28403\n",
              "398                244278\n",
              "399                240929\n",
              "400     STON/O 2. 3101289\n",
              "401                341826\n",
              "402                  4137\n",
              "403      STON/O2. 3101279\n",
              "404                315096\n",
              "405                 28664\n",
              "406                347064\n",
              "407                 29106\n",
              "408                312992\n",
              "409                  4133\n",
              "410                349222\n",
              "411                394140\n",
              "412                 19928\n",
              "413                239853\n",
              "414     STON/O 2. 3101269\n",
              "415                343095\n",
              "416                 28220\n",
              "417                250652\n",
              "418                 28228\n",
              "419                345773\n",
              "420                349254\n",
              "421            A/5. 13032\n",
              "422                315082\n",
              "423                347080\n",
              "424                370129\n",
              "425            A/4. 34244\n",
              "426                  2003\n",
              "427                250655\n",
              "428                364851\n",
              "429     SOTON/O.Q. 392078\n",
              "430                110564\n",
              "431                376564\n",
              "432            SC/AH 3085\n",
              "433     STON/O 2. 3101274\n",
              "434                 13507\n",
              "435                113760\n",
              "436            W./C. 6608\n",
              "437                 29106\n",
              "438                 19950\n",
              "439            C.A. 18723\n",
              "440          F.C.C. 13529\n",
              "441                345769\n",
              "442                347076\n",
              "443                230434\n",
              "444                 65306\n",
              "445                 33638\n",
              "446                250644\n",
              "447                113794\n",
              "448                  2666\n",
              "449                113786\n",
              "450            C.A. 34651\n",
              "451                 65303\n",
              "452                113051\n",
              "453                 17453\n",
              "454              A/5 2817\n",
              "455                349240\n",
              "456                 13509\n",
              "457                 17464\n",
              "458          F.C.C. 13531\n",
              "459                371060\n",
              "460                 19952\n",
              "461                364506\n",
              "462                111320\n",
              "463                234360\n",
              "464              A/S 2816\n",
              "465    SOTON/O.Q. 3101306\n",
              "466                239853\n",
              "467                113792\n",
              "468                 36209\n",
              "469                  2666\n",
              "470                323592\n",
              "471                315089\n",
              "472            C.A. 34651\n",
              "473       SC/AH Basle 541\n",
              "474                  7553\n",
              "475                110465\n",
              "476                 31027\n",
              "477                  3460\n",
              "478                350060\n",
              "479               3101298\n",
              "480               CA 2144\n",
              "481                239854\n",
              "482              A/5 3594\n",
              "483                  4134\n",
              "484                 11967\n",
              "485                  4133\n",
              "486                 19943\n",
              "487                 11771\n",
              "488            A.5. 18509\n",
              "489            C.A. 37671\n",
              "490                 65304\n",
              "491      SOTON/OQ 3101317\n",
              "492                113787\n",
              "493              PC 17609\n",
              "494             A/4 45380\n",
              "495                  2627\n",
              "496                 36947\n",
              "497             C.A. 6212\n",
              "498                113781\n",
              "499                350035\n",
              "500                315086\n",
              "501                364846\n",
              "502                330909\n",
              "503                  4135\n",
              "504                110152\n",
              "505              PC 17758\n",
              "506                 26360\n",
              "507                111427\n",
              "508                C 4001\n",
              "509                  1601\n",
              "510                382651\n",
              "511      SOTON/OQ 3101316\n",
              "512              PC 17473\n",
              "513              PC 17603\n",
              "514                349209\n",
              "515                 36967\n",
              "516            C.A. 34260\n",
              "517                371110\n",
              "518                226875\n",
              "519                349242\n",
              "520                 12749\n",
              "521                349252\n",
              "522                  2624\n",
              "523                111361\n",
              "524                  2700\n",
              "525                367232\n",
              "526           W./C. 14258\n",
              "527              PC 17483\n",
              "528               3101296\n",
              "529                 29104\n",
              "530                 26360\n",
              "531                  2641\n",
              "532                  2690\n",
              "533                  2668\n",
              "534                315084\n",
              "535          F.C.C. 13529\n",
              "536                113050\n",
              "537              PC 17761\n",
              "538                364498\n",
              "539                 13568\n",
              "540             WE/P 5735\n",
              "541                347082\n",
              "542                347082\n",
              "543                  2908\n",
              "544              PC 17761\n",
              "545                   693\n",
              "546                  2908\n",
              "547         SC/PARIS 2146\n",
              "548                363291\n",
              "549            C.A. 33112\n",
              "550                 17421\n",
              "551                244358\n",
              "552                330979\n",
              "553                  2620\n",
              "554                347085\n",
              "555                113807\n",
              "556                 11755\n",
              "557              PC 17757\n",
              "558                110413\n",
              "559                345572\n",
              "560                372622\n",
              "561                349251\n",
              "562                218629\n",
              "563       SOTON/OQ 392082\n",
              "564     SOTON/O.Q. 392087\n",
              "565             A/4 48871\n",
              "566                349205\n",
              "567                349909\n",
              "568                  2686\n",
              "569                350417\n",
              "570           S.W./PP 752\n",
              "571                 11769\n",
              "572              PC 17474\n",
              "573                 14312\n",
              "574            A/4. 20589\n",
              "575                358585\n",
              "576                243880\n",
              "577                 13507\n",
              "578                  2689\n",
              "579     STON/O 2. 3101286\n",
              "580                237789\n",
              "581                 17421\n",
              "582                 28403\n",
              "583                 13049\n",
              "584                  3411\n",
              "585                110413\n",
              "586                237565\n",
              "587                 13567\n",
              "588                 14973\n",
              "589            A./5. 3235\n",
              "590     STON/O 2. 3101273\n",
              "591                 36947\n",
              "592              A/5 3902\n",
              "593                364848\n",
              "594           SC/AH 29037\n",
              "595                345773\n",
              "596                248727\n",
              "597                  LINE\n",
              "598                  2664\n",
              "599              PC 17485\n",
              "600                243847\n",
              "601                349214\n",
              "602                113796\n",
              "603                364511\n",
              "604                111426\n",
              "605                349910\n",
              "606                349246\n",
              "607                113804\n",
              "608         SC/Paris 2123\n",
              "609              PC 17582\n",
              "610                347082\n",
              "611    SOTON/O.Q. 3101305\n",
              "612                367230\n",
              "613                370377\n",
              "614                364512\n",
              "615                220845\n",
              "616                347080\n",
              "617             A/5. 3336\n",
              "618                230136\n",
              "619                 31028\n",
              "620                  2659\n",
              "621                 11753\n",
              "622                  2653\n",
              "623                350029\n",
              "624                 54636\n",
              "625                 36963\n",
              "626                219533\n",
              "627                 13502\n",
              "628                349224\n",
              "629                334912\n",
              "630                 27042\n",
              "631                347743\n",
              "632                 13214\n",
              "633                112052\n",
              "634                347088\n",
              "635                237668\n",
              "636     STON/O 2. 3101292\n",
              "637            C.A. 31921\n",
              "638               3101295\n",
              "639                376564\n",
              "640                350050\n",
              "641              PC 17477\n",
              "642                347088\n",
              "643                  1601\n",
              "644                  2666\n",
              "645              PC 17572\n",
              "646                349231\n",
              "647                 13213\n",
              "648         S.O./P.P. 751\n",
              "649              CA. 2314\n",
              "650                349221\n",
              "651                231919\n",
              "652                  8475\n",
              "653                330919\n",
              "654                365226\n",
              "655          S.O.C. 14879\n",
              "656                349223\n",
              "657                364849\n",
              "658                 29751\n",
              "659                 35273\n",
              "660              PC 17611\n",
              "661                  2623\n",
              "662                  5727\n",
              "663                349210\n",
              "664     STON/O 2. 3101285\n",
              "665          S.O.C. 14879\n",
              "666                234686\n",
              "667                312993\n",
              "668              A/5 3536\n",
              "669                 19996\n",
              "670                 29750\n",
              "671            F.C. 12750\n",
              "672            C.A. 24580\n",
              "673                244270\n",
              "674                239856\n",
              "675                349912\n",
              "676                342826\n",
              "677                  4138\n",
              "678               CA 2144\n",
              "679              PC 17755\n",
              "680                330935\n",
              "681              PC 17572\n",
              "682                  6563\n",
              "683               CA 2144\n",
              "684                 29750\n",
              "685         SC/Paris 2123\n",
              "686               3101295\n",
              "687                349228\n",
              "688                350036\n",
              "689                 24160\n",
              "690                 17474\n",
              "691                349256\n",
              "692                  1601\n",
              "693                  2672\n",
              "694                113800\n",
              "695                248731\n",
              "696                363592\n",
              "697                 35852\n",
              "698                 17421\n",
              "699                348121\n",
              "700              PC 17757\n",
              "701              PC 17475\n",
              "702                  2691\n",
              "703                 36864\n",
              "704                350025\n",
              "705                250655\n",
              "706                223596\n",
              "707              PC 17476\n",
              "708                113781\n",
              "709                  2661\n",
              "710              PC 17482\n",
              "711                113028\n",
              "712                 19996\n",
              "713                  7545\n",
              "714                250647\n",
              "715                348124\n",
              "716              PC 17757\n",
              "717                 34218\n",
              "718                 36568\n",
              "719                347062\n",
              "720                248727\n",
              "721                350048\n",
              "722                 12233\n",
              "723                250643\n",
              "724                113806\n",
              "725                315094\n",
              "726                 31027\n",
              "727                 36866\n",
              "728                236853\n",
              "729      STON/O2. 3101271\n",
              "730                 24160\n",
              "731                  2699\n",
              "732                239855\n",
              "733                 28425\n",
              "734                233639\n",
              "735                 54636\n",
              "736            W./C. 6608\n",
              "737              PC 17755\n",
              "738                349201\n",
              "739                349218\n",
              "740                 16988\n",
              "741                 19877\n",
              "742              PC 17608\n",
              "743                376566\n",
              "744     STON/O 2. 3101288\n",
              "745             WE/P 5735\n",
              "746             C.A. 2673\n",
              "747                250648\n",
              "748                113773\n",
              "749                335097\n",
              "750                 29103\n",
              "751                392096\n",
              "752                345780\n",
              "753                349204\n",
              "754                220845\n",
              "755                250649\n",
              "756                350042\n",
              "757                 29108\n",
              "758                363294\n",
              "759                110152\n",
              "760                358585\n",
              "761      SOTON/O2 3101272\n",
              "762                  2663\n",
              "763                113760\n",
              "764                347074\n",
              "765                 13502\n",
              "766                112379\n",
              "767                364850\n",
              "768                371110\n",
              "769                  8471\n",
              "770                345781\n",
              "771                350047\n",
              "772           S.O./P.P. 3\n",
              "773                  2674\n",
              "774                 29105\n",
              "775                347078\n",
              "776                383121\n",
              "777                364516\n",
              "778                 36865\n",
              "779                 24160\n",
              "780                  2687\n",
              "781                 17474\n",
              "782                113501\n",
              "783            W./C. 6607\n",
              "784    SOTON/O.Q. 3101312\n",
              "785                374887\n",
              "786               3101265\n",
              "787                382652\n",
              "788             C.A. 2315\n",
              "789              PC 17593\n",
              "790                 12460\n",
              "791                239865\n",
              "792              CA. 2343\n",
              "793              PC 17600\n",
              "794                349203\n",
              "795                 28213\n",
              "796                 17465\n",
              "797                349244\n",
              "798                  2685\n",
              "799                345773\n",
              "800                250647\n",
              "801            C.A. 31921\n",
              "802                113760\n",
              "803                  2625\n",
              "804                347089\n",
              "805                347063\n",
              "806                112050\n",
              "807                347087\n",
              "808                248723\n",
              "809                113806\n",
              "810                  3474\n",
              "811             A/4 48871\n",
              "812                 28206\n",
              "813                347082\n",
              "814                364499\n",
              "815                112058\n",
              "816      STON/O2. 3101290\n",
              "817       S.C./PARIS 2079\n",
              "818                C 7075\n",
              "819                347088\n",
              "820                 12749\n",
              "821                315098\n",
              "822                 19972\n",
              "823                392096\n",
              "824               3101295\n",
              "825                368323\n",
              "826                  1601\n",
              "827       S.C./PARIS 2079\n",
              "828                367228\n",
              "829                113572\n",
              "830                  2659\n",
              "831                 29106\n",
              "832                  2671\n",
              "833                347468\n",
              "834                  2223\n",
              "835              PC 17756\n",
              "836                315097\n",
              "837                392092\n",
              "838                  1601\n",
              "839                 11774\n",
              "840      SOTON/O2 3101287\n",
              "841           S.O./P.P. 3\n",
              "842                113798\n",
              "843                  2683\n",
              "844                315090\n",
              "845             C.A. 5547\n",
              "846              CA. 2343\n",
              "847                349213\n",
              "848                248727\n",
              "849                 17453\n",
              "850                347082\n",
              "851                347060\n",
              "852                  2678\n",
              "853              PC 17592\n",
              "854                244252\n",
              "855                392091\n",
              "856                 36928\n",
              "857                113055\n",
              "858                  2666\n",
              "859                  2629\n",
              "860                350026\n",
              "861                 28134\n",
              "862                 17466\n",
              "863              CA. 2343\n",
              "864                233866\n",
              "865                236852\n",
              "866         SC/PARIS 2149\n",
              "867              PC 17590\n",
              "868                345777\n",
              "869                347742\n",
              "870                349248\n",
              "871                 11751\n",
              "872                   695\n",
              "873                345765\n",
              "874             P/PP 3381\n",
              "875                  2667\n",
              "876                  7534\n",
              "877                349212\n",
              "878                349217\n",
              "879                 11767\n",
              "880                230433\n",
              "881                349257\n",
              "882                  7552\n",
              "883      C.A./SOTON 34068\n",
              "884       SOTON/OQ 392076\n",
              "885                382652\n",
              "886                211536\n",
              "887                112053\n",
              "888            W./C. 6607\n",
              "889                111369\n",
              "890                370376\n",
              "Name: Ticket, dtype: object"
            ]
          },
          "metadata": {},
          "execution_count": 133
        },
        {
          "output_type": "stream",
          "name": "stdout",
          "text": [
            "\n",
            "\n"
          ]
        },
        {
          "output_type": "execute_result",
          "data": {
            "text/plain": [
              "0        male\n",
              "1      female\n",
              "2      female\n",
              "3      female\n",
              "4        male\n",
              "        ...  \n",
              "886      male\n",
              "887    female\n",
              "888    female\n",
              "889      male\n",
              "890      male\n",
              "Name: Sex, Length: 891, dtype: category\n",
              "Categories (2, object): ['female', 'male']"
            ]
          },
          "metadata": {},
          "execution_count": 133
        }
      ],
      "source": [
        "import pandas as pd\n",
        "\n",
        "titanic_df = pd.read_csv(\"https://raw.githubusercontent.com/ID2223KTH/id2223kth.github.io/master/assignments/lab1/titanic.csv\")\n",
        "\n",
        "\n",
        "\n",
        "# drop ticket and passenger id columns\n",
        "# with pd.option_context('display.max_rows', None, 'display.max_columns', None):  # more options can be specified also\n",
        "#   titanic_df[\"Ticket\"]\n",
        "print(\"\\n\")\n",
        "titanic_df.drop([\"Ticket\",\"PassengerId\"], axis=1, inplace=True)\n",
        "\n",
        "# convert sex to category\n",
        "titanic_df[\"Sex\"].astype(\"category\")\n"
      ]
    },
    {
      "cell_type": "markdown",
      "metadata": {
        "id": "Ft3XdEeer6jZ"
      },
      "source": [
        "# Get overview of data"
      ]
    },
    {
      "cell_type": "code",
      "execution_count": 19,
      "metadata": {
        "id": "zBpzt24yr6jZ"
      },
      "outputs": [],
      "source": [
        "from IPython.core.interactiveshell import InteractiveShell\n",
        "\n",
        "# Allow multiple outputs\n",
        "InteractiveShell.ast_node_interactivity = \"all\""
      ]
    },
    {
      "cell_type": "markdown",
      "metadata": {
        "id": "YB4m30sgr6ja"
      },
      "source": []
    },
    {
      "cell_type": "markdown",
      "metadata": {
        "id": "4YdKFXIyr6ja"
      },
      "source": [
        "### Check NaNs"
      ]
    },
    {
      "cell_type": "code",
      "execution_count": 20,
      "metadata": {
        "id": "tz8VA6zYr6jb",
        "colab": {
          "base_uri": "https://localhost:8080/",
          "height": 1000
        },
        "outputId": "9a8521e5-5871-4256-f4c8-06758464cf94"
      },
      "outputs": [
        {
          "output_type": "stream",
          "name": "stdout",
          "text": [
            "describe:\n",
            "\n"
          ]
        },
        {
          "output_type": "execute_result",
          "data": {
            "text/plain": [
              "         Survived      Pclass         Age       SibSp       Parch        Fare\n",
              "count  891.000000  891.000000  714.000000  891.000000  891.000000  891.000000\n",
              "mean     0.383838    2.308642   29.699118    0.523008    0.381594   32.204208\n",
              "std      0.486592    0.836071   14.526497    1.102743    0.806057   49.693429\n",
              "min      0.000000    1.000000    0.420000    0.000000    0.000000    0.000000\n",
              "25%      0.000000    2.000000   20.125000    0.000000    0.000000    7.910400\n",
              "50%      0.000000    3.000000   28.000000    0.000000    0.000000   14.454200\n",
              "75%      1.000000    3.000000   38.000000    1.000000    0.000000   31.000000\n",
              "max      1.000000    3.000000   80.000000    8.000000    6.000000  512.329200"
            ],
            "text/html": [
              "\n",
              "  <div id=\"df-d48dae50-5d7a-41c7-adb3-a76ae5afab72\">\n",
              "    <div class=\"colab-df-container\">\n",
              "      <div>\n",
              "<style scoped>\n",
              "    .dataframe tbody tr th:only-of-type {\n",
              "        vertical-align: middle;\n",
              "    }\n",
              "\n",
              "    .dataframe tbody tr th {\n",
              "        vertical-align: top;\n",
              "    }\n",
              "\n",
              "    .dataframe thead th {\n",
              "        text-align: right;\n",
              "    }\n",
              "</style>\n",
              "<table border=\"1\" class=\"dataframe\">\n",
              "  <thead>\n",
              "    <tr style=\"text-align: right;\">\n",
              "      <th></th>\n",
              "      <th>Survived</th>\n",
              "      <th>Pclass</th>\n",
              "      <th>Age</th>\n",
              "      <th>SibSp</th>\n",
              "      <th>Parch</th>\n",
              "      <th>Fare</th>\n",
              "    </tr>\n",
              "  </thead>\n",
              "  <tbody>\n",
              "    <tr>\n",
              "      <th>count</th>\n",
              "      <td>891.000000</td>\n",
              "      <td>891.000000</td>\n",
              "      <td>714.000000</td>\n",
              "      <td>891.000000</td>\n",
              "      <td>891.000000</td>\n",
              "      <td>891.000000</td>\n",
              "    </tr>\n",
              "    <tr>\n",
              "      <th>mean</th>\n",
              "      <td>0.383838</td>\n",
              "      <td>2.308642</td>\n",
              "      <td>29.699118</td>\n",
              "      <td>0.523008</td>\n",
              "      <td>0.381594</td>\n",
              "      <td>32.204208</td>\n",
              "    </tr>\n",
              "    <tr>\n",
              "      <th>std</th>\n",
              "      <td>0.486592</td>\n",
              "      <td>0.836071</td>\n",
              "      <td>14.526497</td>\n",
              "      <td>1.102743</td>\n",
              "      <td>0.806057</td>\n",
              "      <td>49.693429</td>\n",
              "    </tr>\n",
              "    <tr>\n",
              "      <th>min</th>\n",
              "      <td>0.000000</td>\n",
              "      <td>1.000000</td>\n",
              "      <td>0.420000</td>\n",
              "      <td>0.000000</td>\n",
              "      <td>0.000000</td>\n",
              "      <td>0.000000</td>\n",
              "    </tr>\n",
              "    <tr>\n",
              "      <th>25%</th>\n",
              "      <td>0.000000</td>\n",
              "      <td>2.000000</td>\n",
              "      <td>20.125000</td>\n",
              "      <td>0.000000</td>\n",
              "      <td>0.000000</td>\n",
              "      <td>7.910400</td>\n",
              "    </tr>\n",
              "    <tr>\n",
              "      <th>50%</th>\n",
              "      <td>0.000000</td>\n",
              "      <td>3.000000</td>\n",
              "      <td>28.000000</td>\n",
              "      <td>0.000000</td>\n",
              "      <td>0.000000</td>\n",
              "      <td>14.454200</td>\n",
              "    </tr>\n",
              "    <tr>\n",
              "      <th>75%</th>\n",
              "      <td>1.000000</td>\n",
              "      <td>3.000000</td>\n",
              "      <td>38.000000</td>\n",
              "      <td>1.000000</td>\n",
              "      <td>0.000000</td>\n",
              "      <td>31.000000</td>\n",
              "    </tr>\n",
              "    <tr>\n",
              "      <th>max</th>\n",
              "      <td>1.000000</td>\n",
              "      <td>3.000000</td>\n",
              "      <td>80.000000</td>\n",
              "      <td>8.000000</td>\n",
              "      <td>6.000000</td>\n",
              "      <td>512.329200</td>\n",
              "    </tr>\n",
              "  </tbody>\n",
              "</table>\n",
              "</div>\n",
              "      <button class=\"colab-df-convert\" onclick=\"convertToInteractive('df-d48dae50-5d7a-41c7-adb3-a76ae5afab72')\"\n",
              "              title=\"Convert this dataframe to an interactive table.\"\n",
              "              style=\"display:none;\">\n",
              "        \n",
              "  <svg xmlns=\"http://www.w3.org/2000/svg\" height=\"24px\"viewBox=\"0 0 24 24\"\n",
              "       width=\"24px\">\n",
              "    <path d=\"M0 0h24v24H0V0z\" fill=\"none\"/>\n",
              "    <path d=\"M18.56 5.44l.94 2.06.94-2.06 2.06-.94-2.06-.94-.94-2.06-.94 2.06-2.06.94zm-11 1L8.5 8.5l.94-2.06 2.06-.94-2.06-.94L8.5 2.5l-.94 2.06-2.06.94zm10 10l.94 2.06.94-2.06 2.06-.94-2.06-.94-.94-2.06-.94 2.06-2.06.94z\"/><path d=\"M17.41 7.96l-1.37-1.37c-.4-.4-.92-.59-1.43-.59-.52 0-1.04.2-1.43.59L10.3 9.45l-7.72 7.72c-.78.78-.78 2.05 0 2.83L4 21.41c.39.39.9.59 1.41.59.51 0 1.02-.2 1.41-.59l7.78-7.78 2.81-2.81c.8-.78.8-2.07 0-2.86zM5.41 20L4 18.59l7.72-7.72 1.47 1.35L5.41 20z\"/>\n",
              "  </svg>\n",
              "      </button>\n",
              "      \n",
              "  <style>\n",
              "    .colab-df-container {\n",
              "      display:flex;\n",
              "      flex-wrap:wrap;\n",
              "      gap: 12px;\n",
              "    }\n",
              "\n",
              "    .colab-df-convert {\n",
              "      background-color: #E8F0FE;\n",
              "      border: none;\n",
              "      border-radius: 50%;\n",
              "      cursor: pointer;\n",
              "      display: none;\n",
              "      fill: #1967D2;\n",
              "      height: 32px;\n",
              "      padding: 0 0 0 0;\n",
              "      width: 32px;\n",
              "    }\n",
              "\n",
              "    .colab-df-convert:hover {\n",
              "      background-color: #E2EBFA;\n",
              "      box-shadow: 0px 1px 2px rgba(60, 64, 67, 0.3), 0px 1px 3px 1px rgba(60, 64, 67, 0.15);\n",
              "      fill: #174EA6;\n",
              "    }\n",
              "\n",
              "    [theme=dark] .colab-df-convert {\n",
              "      background-color: #3B4455;\n",
              "      fill: #D2E3FC;\n",
              "    }\n",
              "\n",
              "    [theme=dark] .colab-df-convert:hover {\n",
              "      background-color: #434B5C;\n",
              "      box-shadow: 0px 1px 3px 1px rgba(0, 0, 0, 0.15);\n",
              "      filter: drop-shadow(0px 1px 2px rgba(0, 0, 0, 0.3));\n",
              "      fill: #FFFFFF;\n",
              "    }\n",
              "  </style>\n",
              "\n",
              "      <script>\n",
              "        const buttonEl =\n",
              "          document.querySelector('#df-d48dae50-5d7a-41c7-adb3-a76ae5afab72 button.colab-df-convert');\n",
              "        buttonEl.style.display =\n",
              "          google.colab.kernel.accessAllowed ? 'block' : 'none';\n",
              "\n",
              "        async function convertToInteractive(key) {\n",
              "          const element = document.querySelector('#df-d48dae50-5d7a-41c7-adb3-a76ae5afab72');\n",
              "          const dataTable =\n",
              "            await google.colab.kernel.invokeFunction('convertToInteractive',\n",
              "                                                     [key], {});\n",
              "          if (!dataTable) return;\n",
              "\n",
              "          const docLinkHtml = 'Like what you see? Visit the ' +\n",
              "            '<a target=\"_blank\" href=https://colab.research.google.com/notebooks/data_table.ipynb>data table notebook</a>'\n",
              "            + ' to learn more about interactive tables.';\n",
              "          element.innerHTML = '';\n",
              "          dataTable['output_type'] = 'display_data';\n",
              "          await google.colab.output.renderOutput(dataTable, element);\n",
              "          const docLink = document.createElement('div');\n",
              "          docLink.innerHTML = docLinkHtml;\n",
              "          element.appendChild(docLink);\n",
              "        }\n",
              "      </script>\n",
              "    </div>\n",
              "  </div>\n",
              "  "
            ]
          },
          "metadata": {},
          "execution_count": 20
        },
        {
          "output_type": "stream",
          "name": "stdout",
          "text": [
            "\n",
            "\n",
            "NaNs:\n",
            "\n"
          ]
        },
        {
          "output_type": "execute_result",
          "data": {
            "text/plain": [
              "Survived      0\n",
              "Pclass        0\n",
              "Name          0\n",
              "Sex           0\n",
              "Age         177\n",
              "SibSp         0\n",
              "Parch         0\n",
              "Fare          0\n",
              "Cabin       687\n",
              "Embarked      2\n",
              "dtype: int64"
            ]
          },
          "metadata": {},
          "execution_count": 20
        },
        {
          "output_type": "stream",
          "name": "stdout",
          "text": [
            "\n",
            "\n",
            "ageNaNs:\n",
            "\n"
          ]
        },
        {
          "output_type": "execute_result",
          "data": {
            "text/plain": [
              "     Survived  Pclass                                      Name     Sex  Age  \\\n",
              "5           0       3                          Moran, Mr. James    male  NaN   \n",
              "17          1       2              Williams, Mr. Charles Eugene    male  NaN   \n",
              "19          1       3                   Masselmani, Mrs. Fatima  female  NaN   \n",
              "26          0       3                   Emir, Mr. Farred Chehab    male  NaN   \n",
              "28          1       3             O'Dwyer, Miss. Ellen \"Nellie\"  female  NaN   \n",
              "..        ...     ...                                       ...     ...  ...   \n",
              "859         0       3                          Razi, Mr. Raihed    male  NaN   \n",
              "863         0       3         Sage, Miss. Dorothy Edith \"Dolly\"  female  NaN   \n",
              "868         0       3               van Melkebeke, Mr. Philemon    male  NaN   \n",
              "878         0       3                        Laleff, Mr. Kristo    male  NaN   \n",
              "888         0       3  Johnston, Miss. Catherine Helen \"Carrie\"  female  NaN   \n",
              "\n",
              "     SibSp  Parch     Fare Cabin Embarked  \n",
              "5        0      0   8.4583   NaN        Q  \n",
              "17       0      0  13.0000   NaN        S  \n",
              "19       0      0   7.2250   NaN        C  \n",
              "26       0      0   7.2250   NaN        C  \n",
              "28       0      0   7.8792   NaN        Q  \n",
              "..     ...    ...      ...   ...      ...  \n",
              "859      0      0   7.2292   NaN        C  \n",
              "863      8      2  69.5500   NaN        S  \n",
              "868      0      0   9.5000   NaN        S  \n",
              "878      0      0   7.8958   NaN        S  \n",
              "888      1      2  23.4500   NaN        S  \n",
              "\n",
              "[177 rows x 10 columns]"
            ],
            "text/html": [
              "\n",
              "  <div id=\"df-9d4f0d5c-d443-474c-b59e-5f425650fc72\">\n",
              "    <div class=\"colab-df-container\">\n",
              "      <div>\n",
              "<style scoped>\n",
              "    .dataframe tbody tr th:only-of-type {\n",
              "        vertical-align: middle;\n",
              "    }\n",
              "\n",
              "    .dataframe tbody tr th {\n",
              "        vertical-align: top;\n",
              "    }\n",
              "\n",
              "    .dataframe thead th {\n",
              "        text-align: right;\n",
              "    }\n",
              "</style>\n",
              "<table border=\"1\" class=\"dataframe\">\n",
              "  <thead>\n",
              "    <tr style=\"text-align: right;\">\n",
              "      <th></th>\n",
              "      <th>Survived</th>\n",
              "      <th>Pclass</th>\n",
              "      <th>Name</th>\n",
              "      <th>Sex</th>\n",
              "      <th>Age</th>\n",
              "      <th>SibSp</th>\n",
              "      <th>Parch</th>\n",
              "      <th>Fare</th>\n",
              "      <th>Cabin</th>\n",
              "      <th>Embarked</th>\n",
              "    </tr>\n",
              "  </thead>\n",
              "  <tbody>\n",
              "    <tr>\n",
              "      <th>5</th>\n",
              "      <td>0</td>\n",
              "      <td>3</td>\n",
              "      <td>Moran, Mr. James</td>\n",
              "      <td>male</td>\n",
              "      <td>NaN</td>\n",
              "      <td>0</td>\n",
              "      <td>0</td>\n",
              "      <td>8.4583</td>\n",
              "      <td>NaN</td>\n",
              "      <td>Q</td>\n",
              "    </tr>\n",
              "    <tr>\n",
              "      <th>17</th>\n",
              "      <td>1</td>\n",
              "      <td>2</td>\n",
              "      <td>Williams, Mr. Charles Eugene</td>\n",
              "      <td>male</td>\n",
              "      <td>NaN</td>\n",
              "      <td>0</td>\n",
              "      <td>0</td>\n",
              "      <td>13.0000</td>\n",
              "      <td>NaN</td>\n",
              "      <td>S</td>\n",
              "    </tr>\n",
              "    <tr>\n",
              "      <th>19</th>\n",
              "      <td>1</td>\n",
              "      <td>3</td>\n",
              "      <td>Masselmani, Mrs. Fatima</td>\n",
              "      <td>female</td>\n",
              "      <td>NaN</td>\n",
              "      <td>0</td>\n",
              "      <td>0</td>\n",
              "      <td>7.2250</td>\n",
              "      <td>NaN</td>\n",
              "      <td>C</td>\n",
              "    </tr>\n",
              "    <tr>\n",
              "      <th>26</th>\n",
              "      <td>0</td>\n",
              "      <td>3</td>\n",
              "      <td>Emir, Mr. Farred Chehab</td>\n",
              "      <td>male</td>\n",
              "      <td>NaN</td>\n",
              "      <td>0</td>\n",
              "      <td>0</td>\n",
              "      <td>7.2250</td>\n",
              "      <td>NaN</td>\n",
              "      <td>C</td>\n",
              "    </tr>\n",
              "    <tr>\n",
              "      <th>28</th>\n",
              "      <td>1</td>\n",
              "      <td>3</td>\n",
              "      <td>O'Dwyer, Miss. Ellen \"Nellie\"</td>\n",
              "      <td>female</td>\n",
              "      <td>NaN</td>\n",
              "      <td>0</td>\n",
              "      <td>0</td>\n",
              "      <td>7.8792</td>\n",
              "      <td>NaN</td>\n",
              "      <td>Q</td>\n",
              "    </tr>\n",
              "    <tr>\n",
              "      <th>...</th>\n",
              "      <td>...</td>\n",
              "      <td>...</td>\n",
              "      <td>...</td>\n",
              "      <td>...</td>\n",
              "      <td>...</td>\n",
              "      <td>...</td>\n",
              "      <td>...</td>\n",
              "      <td>...</td>\n",
              "      <td>...</td>\n",
              "      <td>...</td>\n",
              "    </tr>\n",
              "    <tr>\n",
              "      <th>859</th>\n",
              "      <td>0</td>\n",
              "      <td>3</td>\n",
              "      <td>Razi, Mr. Raihed</td>\n",
              "      <td>male</td>\n",
              "      <td>NaN</td>\n",
              "      <td>0</td>\n",
              "      <td>0</td>\n",
              "      <td>7.2292</td>\n",
              "      <td>NaN</td>\n",
              "      <td>C</td>\n",
              "    </tr>\n",
              "    <tr>\n",
              "      <th>863</th>\n",
              "      <td>0</td>\n",
              "      <td>3</td>\n",
              "      <td>Sage, Miss. Dorothy Edith \"Dolly\"</td>\n",
              "      <td>female</td>\n",
              "      <td>NaN</td>\n",
              "      <td>8</td>\n",
              "      <td>2</td>\n",
              "      <td>69.5500</td>\n",
              "      <td>NaN</td>\n",
              "      <td>S</td>\n",
              "    </tr>\n",
              "    <tr>\n",
              "      <th>868</th>\n",
              "      <td>0</td>\n",
              "      <td>3</td>\n",
              "      <td>van Melkebeke, Mr. Philemon</td>\n",
              "      <td>male</td>\n",
              "      <td>NaN</td>\n",
              "      <td>0</td>\n",
              "      <td>0</td>\n",
              "      <td>9.5000</td>\n",
              "      <td>NaN</td>\n",
              "      <td>S</td>\n",
              "    </tr>\n",
              "    <tr>\n",
              "      <th>878</th>\n",
              "      <td>0</td>\n",
              "      <td>3</td>\n",
              "      <td>Laleff, Mr. Kristo</td>\n",
              "      <td>male</td>\n",
              "      <td>NaN</td>\n",
              "      <td>0</td>\n",
              "      <td>0</td>\n",
              "      <td>7.8958</td>\n",
              "      <td>NaN</td>\n",
              "      <td>S</td>\n",
              "    </tr>\n",
              "    <tr>\n",
              "      <th>888</th>\n",
              "      <td>0</td>\n",
              "      <td>3</td>\n",
              "      <td>Johnston, Miss. Catherine Helen \"Carrie\"</td>\n",
              "      <td>female</td>\n",
              "      <td>NaN</td>\n",
              "      <td>1</td>\n",
              "      <td>2</td>\n",
              "      <td>23.4500</td>\n",
              "      <td>NaN</td>\n",
              "      <td>S</td>\n",
              "    </tr>\n",
              "  </tbody>\n",
              "</table>\n",
              "<p>177 rows × 10 columns</p>\n",
              "</div>\n",
              "      <button class=\"colab-df-convert\" onclick=\"convertToInteractive('df-9d4f0d5c-d443-474c-b59e-5f425650fc72')\"\n",
              "              title=\"Convert this dataframe to an interactive table.\"\n",
              "              style=\"display:none;\">\n",
              "        \n",
              "  <svg xmlns=\"http://www.w3.org/2000/svg\" height=\"24px\"viewBox=\"0 0 24 24\"\n",
              "       width=\"24px\">\n",
              "    <path d=\"M0 0h24v24H0V0z\" fill=\"none\"/>\n",
              "    <path d=\"M18.56 5.44l.94 2.06.94-2.06 2.06-.94-2.06-.94-.94-2.06-.94 2.06-2.06.94zm-11 1L8.5 8.5l.94-2.06 2.06-.94-2.06-.94L8.5 2.5l-.94 2.06-2.06.94zm10 10l.94 2.06.94-2.06 2.06-.94-2.06-.94-.94-2.06-.94 2.06-2.06.94z\"/><path d=\"M17.41 7.96l-1.37-1.37c-.4-.4-.92-.59-1.43-.59-.52 0-1.04.2-1.43.59L10.3 9.45l-7.72 7.72c-.78.78-.78 2.05 0 2.83L4 21.41c.39.39.9.59 1.41.59.51 0 1.02-.2 1.41-.59l7.78-7.78 2.81-2.81c.8-.78.8-2.07 0-2.86zM5.41 20L4 18.59l7.72-7.72 1.47 1.35L5.41 20z\"/>\n",
              "  </svg>\n",
              "      </button>\n",
              "      \n",
              "  <style>\n",
              "    .colab-df-container {\n",
              "      display:flex;\n",
              "      flex-wrap:wrap;\n",
              "      gap: 12px;\n",
              "    }\n",
              "\n",
              "    .colab-df-convert {\n",
              "      background-color: #E8F0FE;\n",
              "      border: none;\n",
              "      border-radius: 50%;\n",
              "      cursor: pointer;\n",
              "      display: none;\n",
              "      fill: #1967D2;\n",
              "      height: 32px;\n",
              "      padding: 0 0 0 0;\n",
              "      width: 32px;\n",
              "    }\n",
              "\n",
              "    .colab-df-convert:hover {\n",
              "      background-color: #E2EBFA;\n",
              "      box-shadow: 0px 1px 2px rgba(60, 64, 67, 0.3), 0px 1px 3px 1px rgba(60, 64, 67, 0.15);\n",
              "      fill: #174EA6;\n",
              "    }\n",
              "\n",
              "    [theme=dark] .colab-df-convert {\n",
              "      background-color: #3B4455;\n",
              "      fill: #D2E3FC;\n",
              "    }\n",
              "\n",
              "    [theme=dark] .colab-df-convert:hover {\n",
              "      background-color: #434B5C;\n",
              "      box-shadow: 0px 1px 3px 1px rgba(0, 0, 0, 0.15);\n",
              "      filter: drop-shadow(0px 1px 2px rgba(0, 0, 0, 0.3));\n",
              "      fill: #FFFFFF;\n",
              "    }\n",
              "  </style>\n",
              "\n",
              "      <script>\n",
              "        const buttonEl =\n",
              "          document.querySelector('#df-9d4f0d5c-d443-474c-b59e-5f425650fc72 button.colab-df-convert');\n",
              "        buttonEl.style.display =\n",
              "          google.colab.kernel.accessAllowed ? 'block' : 'none';\n",
              "\n",
              "        async function convertToInteractive(key) {\n",
              "          const element = document.querySelector('#df-9d4f0d5c-d443-474c-b59e-5f425650fc72');\n",
              "          const dataTable =\n",
              "            await google.colab.kernel.invokeFunction('convertToInteractive',\n",
              "                                                     [key], {});\n",
              "          if (!dataTable) return;\n",
              "\n",
              "          const docLinkHtml = 'Like what you see? Visit the ' +\n",
              "            '<a target=\"_blank\" href=https://colab.research.google.com/notebooks/data_table.ipynb>data table notebook</a>'\n",
              "            + ' to learn more about interactive tables.';\n",
              "          element.innerHTML = '';\n",
              "          dataTable['output_type'] = 'display_data';\n",
              "          await google.colab.output.renderOutput(dataTable, element);\n",
              "          const docLink = document.createElement('div');\n",
              "          docLink.innerHTML = docLinkHtml;\n",
              "          element.appendChild(docLink);\n",
              "        }\n",
              "      </script>\n",
              "    </div>\n",
              "  </div>\n",
              "  "
            ]
          },
          "metadata": {},
          "execution_count": 20
        }
      ],
      "source": [
        "# Describe dataframe\n",
        "print(\"describe:\\n\")\n",
        "titanic_df.describe()\n",
        "\n",
        "# Check amount of NaNs\n",
        "print(\"\\n\\nNaNs:\\n\")\n",
        "titanic_df.isnull().sum(axis = 0)\n",
        "\n",
        "# Check NaNs in age\n",
        "print(\"\\n\\nageNaNs:\\n\")\n",
        "titanic_df.loc[titanic_df[\"Age\"].isna()]"
      ]
    },
    {
      "cell_type": "markdown",
      "metadata": {
        "id": "J4WF5nh1r6jb"
      },
      "source": [
        "Take aways:\n",
        "\n",
        "- Cabin has alot of NaNs, might need to drop\n",
        "- Age has not as many NaNs, can resample them"
      ]
    },
    {
      "cell_type": "markdown",
      "metadata": {
        "id": "iznj-A-3r6jc"
      },
      "source": [
        "### Check Name column"
      ]
    },
    {
      "cell_type": "code",
      "execution_count": 21,
      "metadata": {
        "id": "pQEHxvl3r6jc",
        "outputId": "fcb64ade-33fe-4187-9ffd-ae8f92bc8428",
        "colab": {
          "base_uri": "https://localhost:8080/"
        }
      },
      "outputs": [
        {
          "output_type": "execute_result",
          "data": {
            "text/plain": [
              "0                                Braund, Mr. Owen Harris\n",
              "1      Cumings, Mrs. John Bradley (Florence Briggs Th...\n",
              "2                                 Heikkinen, Miss. Laina\n",
              "3           Futrelle, Mrs. Jacques Heath (Lily May Peel)\n",
              "4                               Allen, Mr. William Henry\n",
              "                             ...                        \n",
              "886                                Montvila, Rev. Juozas\n",
              "887                         Graham, Miss. Margaret Edith\n",
              "888             Johnston, Miss. Catherine Helen \"Carrie\"\n",
              "889                                Behr, Mr. Karl Howell\n",
              "890                                  Dooley, Mr. Patrick\n",
              "Name: Name, Length: 891, dtype: object"
            ]
          },
          "metadata": {},
          "execution_count": 21
        }
      ],
      "source": [
        "titanic_df[\"Name\"]"
      ]
    },
    {
      "cell_type": "markdown",
      "metadata": {
        "id": "3Jh__exur6jd"
      },
      "source": [
        "Take aways:\n",
        "\n",
        "- Every name has a title\n",
        "- Might be able to use to resample missing ages\n",
        "- Titles Mr and Mrs represent being husband/wife which is probably quite relevant for survivability"
      ]
    },
    {
      "cell_type": "markdown",
      "metadata": {
        "id": "tJskSmtfr6jd"
      },
      "source": [
        "### Check some gut feelings"
      ]
    },
    {
      "cell_type": "code",
      "execution_count": 16,
      "metadata": {
        "id": "4mVTAQWhr6jd",
        "outputId": "772047c3-e169-4b4c-eab5-904fe998a3da",
        "colab": {
          "base_uri": "https://localhost:8080/"
        }
      },
      "outputs": [
        {
          "output_type": "stream",
          "name": "stdout",
          "text": [
            "female survived:\n"
          ]
        },
        {
          "output_type": "execute_result",
          "data": {
            "text/plain": [
              "0.7420382165605095"
            ]
          },
          "metadata": {},
          "execution_count": 16
        },
        {
          "output_type": "stream",
          "name": "stdout",
          "text": [
            "\n",
            "\n",
            "child survived:\n"
          ]
        },
        {
          "output_type": "execute_result",
          "data": {
            "text/plain": [
              "0.6666666666666666"
            ]
          },
          "metadata": {},
          "execution_count": 16
        },
        {
          "output_type": "stream",
          "name": "stdout",
          "text": [
            "\n",
            "\n",
            "male survived:\n"
          ]
        },
        {
          "output_type": "execute_result",
          "data": {
            "text/plain": [
              "0.18890814558058924"
            ]
          },
          "metadata": {},
          "execution_count": 16
        }
      ],
      "source": [
        "# titanic_df.loc[(titanic_df[\"Pclass\"] == 3) & (titanic_df[\"Cabin\"] == \"G6\")]\n",
        "print(\"female survived:\")\n",
        "len(titanic_df.loc[(titanic_df[\"Survived\"] == 1) & (titanic_df[\"Sex\"] == \"female\")])/len(titanic_df.loc[titanic_df[\"Sex\"] == \"female\"])\n",
        "\n",
        "print(\"\\n\\nchild survived:\")\n",
        "len(titanic_df.loc[(titanic_df[\"Survived\"] == 1) & (titanic_df[\"Age\"] <= 8 )])/len(titanic_df.loc[titanic_df[\"Age\"] <= 8])\n",
        "\n",
        "print(\"\\n\\nmale survived:\")\n",
        "len(titanic_df.loc[(titanic_df[\"Survived\"] == 1) & (titanic_df[\"Sex\"] == \"male\")])/len(titanic_df.loc[(titanic_df[\"Sex\"] == \"male\")])\n"
      ]
    },
    {
      "cell_type": "markdown",
      "metadata": {
        "id": "IKtR43rLr6jg"
      },
      "source": [
        "### Correlation Matrix"
      ]
    },
    {
      "cell_type": "code",
      "execution_count": 36,
      "metadata": {
        "id": "eX8QJENVr6jg",
        "outputId": "72483735-42bf-4300-f356-8db3e176dbcf",
        "colab": {
          "base_uri": "https://localhost:8080/",
          "height": 562
        }
      },
      "outputs": [
        {
          "output_type": "stream",
          "name": "stderr",
          "text": [
            "DeprecationWarning: `np.bool` is a deprecated alias for the builtin `bool`. To silence this warning, use `bool` by itself. Doing this will not modify any behavior and is safe. If you specifically wanted the numpy scalar type, use `np.bool_` here.\n",
            "Deprecated in NumPy 1.20; for more details and guidance: https://numpy.org/devdocs/release/1.20.0-notes.html#deprecations\n"
          ]
        },
        {
          "output_type": "execute_result",
          "data": {
            "text/plain": [
              "<matplotlib.axes._subplots.AxesSubplot at 0x7f3f3cf30510>"
            ]
          },
          "metadata": {},
          "execution_count": 36
        },
        {
          "output_type": "display_data",
          "data": {
            "text/plain": [
              "<Figure size 720x576 with 2 Axes>"
            ],
            "image/png": "[encoded data removed]"
          },
          "metadata": {
            "needs_background": "light"
          }
        }
      ],
      "source": [
        "import matplotlib.pyplot as plt\n",
        "import seaborn as sns\n",
        "import numpy as np\n",
        "\n",
        "f, ax = plt.subplots(figsize=(10, 8))\n",
        "corr = titanic_df.corr()\n",
        "sns.heatmap(corr, mask=np.zeros_like(corr, dtype=np.bool), cmap=sns.diverging_palette(220, 10, as_cmap=True),\n",
        "            square=True, ax=ax, annot=True)"
      ]
    },
    {
      "cell_type": "markdown",
      "metadata": {
        "id": "refw8JuHr6jg"
      },
      "source": [
        "Take aways:\n",
        "\n",
        "- Might be able to create a better feature for family on board\n",
        "- Many features are decently correlated with eachother which can be used to fill in missing values"
      ]
    },
    {
      "cell_type": "markdown",
      "source": [],
      "metadata": {
        "id": "8UZTo-Dgxmag"
      }
    },
    {
      "cell_type": "markdown",
      "metadata": {
        "id": "VzklU60xr6je"
      },
      "source": [
        "### Plot survival distributions based on features"
      ]
    },
    {
      "cell_type": "markdown",
      "source": [
        "#### Age"
      ],
      "metadata": {
        "id": "RW9B4IZWxdGa"
      }
    },
    {
      "cell_type": "code",
      "execution_count": 97,
      "metadata": {
        "id": "eYVoABPwr6je",
        "colab": {
          "base_uri": "https://localhost:8080/",
          "height": 334
        },
        "outputId": "b11cb995-f4e2-43d2-c829-450dadfb80a6"
      },
      "outputs": [
        {
          "output_type": "execute_result",
          "data": {
            "text/plain": [
              "<matplotlib.axes._subplots.AxesSubplot at 0x7f3f3535d8d0>"
            ]
          },
          "metadata": {},
          "execution_count": 97
        },
        {
          "output_type": "execute_result",
          "data": {
            "text/plain": [
              "<matplotlib.axes._subplots.AxesSubplot at 0x7f3f3535d8d0>"
            ]
          },
          "metadata": {},
          "execution_count": 97
        },
        {
          "output_type": "execute_result",
          "data": {
            "text/plain": [
              "<matplotlib.axes._subplots.AxesSubplot at 0x7f3f3535d8d0>"
            ]
          },
          "metadata": {},
          "execution_count": 97
        },
        {
          "output_type": "display_data",
          "data": {
            "text/plain": [
              "<Figure size 432x288 with 1 Axes>"
            ],
            "image/png": "[encoded data removed]"
          },
          "metadata": {
            "needs_background": "light"
          }
        },
        {
          "output_type": "display_data",
          "data": {
            "text/plain": [
              "<Figure size 432x288 with 0 Axes>"
            ]
          },
          "metadata": {}
        }
      ],
      "source": [
        "import seaborn as sns\n",
        "# distribution of survival based on age\n",
        "survived = titanic_df[\"Survived\"] == 1\n",
        "\n",
        "# fig, axs = plt.subplots(ncols=2, nrows=2, figsize=(20, 20))\n",
        "\n",
        "# distribution of age\n",
        "sns.histplot(titanic_df['Age'], label=\"Age\", color=\"blue\",)\n",
        "\n",
        "sns.histplot(titanic_df[~survived]['Age'], label=\"Not Survived\", color=\"red\")\n",
        "sns.histplot(titanic_df[survived]['Age'], label=\"Survived\", color=\"green\")\n",
        "\n",
        "plt.show()\n",
        "plt.clf()\n"
      ]
    },
    {
      "cell_type": "markdown",
      "source": [
        "##### **Takeaways**:\n",
        "Peak in survivability between 0-5 (significant difference between 0-5 and 5-10 which could be because kids 0-5 can be easily carried while 5-10 can't be carried nor can handle themselves), peak in deathrate between 15-30.\n"
      ],
      "metadata": {
        "id": "QWnza5jLy21z"
      }
    },
    {
      "cell_type": "code",
      "source": [
        "# titanic_df['Age'] = pd.cut(titanic_df['Age'],[0,5,10,15,30,65,150])"
      ],
      "metadata": {
        "id": "FQSIJRmEz7cc"
      },
      "execution_count": 48,
      "outputs": []
    },
    {
      "cell_type": "markdown",
      "source": [
        "#### Fare"
      ],
      "metadata": {
        "id": "1QqkSE5Iycx_"
      }
    },
    {
      "cell_type": "code",
      "source": [
        "# distribution of survival based on Fare\n",
        "survived = titanic_df[\"Survived\"] == 1\n",
        "\n",
        "#not survived based on Fare\n",
        "fig, axs = plt.subplots(2)\n",
        "fig.set_figheight(10)\n",
        "fig.set_figwidth(20)\n",
        "axs[0].plot(titanic_df[~survived]['Fare'], color=\"red\")\n",
        "axs[0].plot(titanic_df[survived]['Fare'], color=\"green\")\n",
        "\n",
        "axs[1].plot(titanic_df['Fare'], color=\"blue\",)\n",
        "plt.show()\n",
        "plt.clf()\n"
      ],
      "metadata": {
        "colab": {
          "base_uri": "https://localhost:8080/",
          "height": 542
        },
        "id": "kDrfadb84ohY",
        "outputId": "4dcf5b7e-da1c-498a-d680-66600a9fcb8b"
      },
      "execution_count": 110,
      "outputs": [
        {
          "output_type": "execute_result",
          "data": {
            "text/plain": [
              "[<matplotlib.lines.Line2D at 0x7f3f34b1b5d0>]"
            ]
          },
          "metadata": {},
          "execution_count": 110
        },
        {
          "output_type": "execute_result",
          "data": {
            "text/plain": [
              "[<matplotlib.lines.Line2D at 0x7f3f3471b750>]"
            ]
          },
          "metadata": {},
          "execution_count": 110
        },
        {
          "output_type": "execute_result",
          "data": {
            "text/plain": [
              "[<matplotlib.lines.Line2D at 0x7f3f3471b9d0>]"
            ]
          },
          "metadata": {},
          "execution_count": 110
        },
        {
          "output_type": "display_data",
          "data": {
            "text/plain": [
              "<Figure size 1440x720 with 2 Axes>"
            ],
            "image/png": "[encoded data removed]"
          },
          "metadata": {
            "needs_background": "light"
          }
        },
        {
          "output_type": "display_data",
          "data": {
            "text/plain": [
              "<Figure size 432x288 with 0 Axes>"
            ]
          },
          "metadata": {}
        }
      ]
    },
    {
      "cell_type": "markdown",
      "source": [
        "**Takeaways:**\n",
        "Over 600 seems to be highly correlated with survivability while 0-200 seems to be very correlated with deathrate. This makes sense since cheaper tickets might be on a deck further away from lifeboats or further down in the boat. There are however a spike in survivability in the 200-400 range which might have something to do with the position of the cabins at that price range, binning in categories of 200 seems reasonable."
      ],
      "metadata": {
        "id": "DFEVnInk6GB2"
      }
    },
    {
      "cell_type": "code",
      "source": [
        "# titanic_df['Fare'] = pd.cut(titanic_df['Fare'],[0,200,400,600,1000])"
      ],
      "metadata": {
        "id": "8vPM_mKU_DTA"
      },
      "execution_count": 47,
      "outputs": []
    },
    {
      "cell_type": "markdown",
      "source": [
        "#### Categoricals: plotting code stolen from Gunes Evitan"
      ],
      "metadata": {
        "id": "AzAqNbe8_xBQ"
      }
    },
    {
      "cell_type": "code",
      "source": [
        "\n",
        "cats = ['SibSp', 'Pclass', 'Sex', 'Parch', 'Embarked']\n",
        "\n",
        "fig, axs = plt.subplots(ncols=2, nrows=3, figsize=(10, 10))\n",
        "plt.subplots_adjust(right=1.5, top=1.25)\n",
        "\n",
        "for i, cat in enumerate(cats, 1):    \n",
        "    plt.subplot(2, 3, i)\n",
        "    sns.countplot(x=cat, hue='Survived', data=titanic_df, palette=['red','green'])\n",
        "    \n",
        "   \n",
        "\n",
        "plt.show()\n",
        "plt.clf()"
      ],
      "metadata": {
        "colab": {
          "base_uri": "https://localhost:8080/",
          "height": 920
        },
        "id": "kBi1j4Eh_-Hd",
        "outputId": "0c34bebd-c2b4-4bb8-e41a-6eb9ba4afd0f"
      },
      "execution_count": 115,
      "outputs": [
        {
          "output_type": "execute_result",
          "data": {
            "text/plain": [
              "<matplotlib.axes._subplots.AxesSubplot at 0x7f3f3380ba90>"
            ]
          },
          "metadata": {},
          "execution_count": 115
        },
        {
          "output_type": "execute_result",
          "data": {
            "text/plain": [
              "<matplotlib.axes._subplots.AxesSubplot at 0x7f3f3380ba90>"
            ]
          },
          "metadata": {},
          "execution_count": 115
        },
        {
          "output_type": "execute_result",
          "data": {
            "text/plain": [
              "<matplotlib.axes._subplots.AxesSubplot at 0x7f3f337b7c90>"
            ]
          },
          "metadata": {},
          "execution_count": 115
        },
        {
          "output_type": "execute_result",
          "data": {
            "text/plain": [
              "<matplotlib.axes._subplots.AxesSubplot at 0x7f3f337b7c90>"
            ]
          },
          "metadata": {},
          "execution_count": 115
        },
        {
          "output_type": "execute_result",
          "data": {
            "text/plain": [
              "<matplotlib.axes._subplots.AxesSubplot at 0x7f3f33732090>"
            ]
          },
          "metadata": {},
          "execution_count": 115
        },
        {
          "output_type": "execute_result",
          "data": {
            "text/plain": [
              "<matplotlib.axes._subplots.AxesSubplot at 0x7f3f33732090>"
            ]
          },
          "metadata": {},
          "execution_count": 115
        },
        {
          "output_type": "execute_result",
          "data": {
            "text/plain": [
              "<matplotlib.axes._subplots.AxesSubplot at 0x7f3f336e00d0>"
            ]
          },
          "metadata": {},
          "execution_count": 115
        },
        {
          "output_type": "execute_result",
          "data": {
            "text/plain": [
              "<matplotlib.axes._subplots.AxesSubplot at 0x7f3f336e00d0>"
            ]
          },
          "metadata": {},
          "execution_count": 115
        },
        {
          "output_type": "execute_result",
          "data": {
            "text/plain": [
              "<matplotlib.axes._subplots.AxesSubplot at 0x7f3f336a9290>"
            ]
          },
          "metadata": {},
          "execution_count": 115
        },
        {
          "output_type": "execute_result",
          "data": {
            "text/plain": [
              "<matplotlib.axes._subplots.AxesSubplot at 0x7f3f336a9290>"
            ]
          },
          "metadata": {},
          "execution_count": 115
        },
        {
          "output_type": "display_data",
          "data": {
            "text/plain": [
              "<Figure size 720x720 with 5 Axes>"
            ],
            "image/png": "[encoded data removed]"
          },
          "metadata": {
            "needs_background": "light"
          }
        },
        {
          "output_type": "display_data",
          "data": {
            "text/plain": [
              "<Figure size 432x288 with 0 Axes>"
            ]
          },
          "metadata": {}
        }
      ]
    },
    {
      "cell_type": "markdown",
      "source": [
        "**Takeaways:**\n",
        "\n",
        "The categorical features all seem to have predictive value. One thing to note with the SibSp feature is that for SibSp > 1 we now that the amount of siblings is >= 1 because you can only have one spouse, this might explain why survivability drops at SibSp > 1 compared to SibSp = 1. If your parents have other kids to save you are less likely to get saved yourself. The data points for SibSp > 1 are also a lot fewer so it could make sense to bin these together to avoid overfitting such that all SibSp>1 are in 1 category that corresponds to having siblings"
      ],
      "metadata": {
        "id": "4aJrD4HMR6x0"
      }
    },
    {
      "cell_type": "code",
      "source": [
        "# titanic_df['SibSp'] = pd.cut(titanic_df['SibSp'], [0,1,2,7], right=False)"
      ],
      "metadata": {
        "colab": {
          "base_uri": "https://localhost:8080/"
        },
        "id": "B7D7JMDCcDP7",
        "outputId": "c7b5f791-801c-4fb5-c753-60e99ce724a5"
      },
      "execution_count": 116,
      "outputs": [
        {
          "output_type": "execute_result",
          "data": {
            "text/plain": [
              "0      [1, 2)\n",
              "1      [1, 2)\n",
              "2      [0, 1)\n",
              "3      [1, 2)\n",
              "4      [0, 1)\n",
              "        ...  \n",
              "886    [0, 1)\n",
              "887    [0, 1)\n",
              "888    [1, 2)\n",
              "889    [0, 1)\n",
              "890    [0, 1)\n",
              "Name: SibSp, Length: 891, dtype: category\n",
              "Categories (3, interval[int64, left]): [[0, 1) < [1, 2) < [2, 7)]"
            ]
          },
          "metadata": {},
          "execution_count": 116
        }
      ]
    },
    {
      "cell_type": "markdown",
      "source": [
        "#### Cabin\n"
      ],
      "metadata": {
        "id": "3oSwrF26eFIv"
      }
    },
    {
      "cell_type": "markdown",
      "source": [
        "After doing some research we noticed that the letter in the cabin number corresponds to a deck of the boat, having deck as a categorical feature should have predictive value since you need to get to the top deck in order to board the lifeboats.\n"
      ],
      "metadata": {
        "id": "ZsYdQeTpszP2"
      }
    },
    {
      "cell_type": "code",
      "source": [
        "titanic_df[\"Cabin\"] = titanic_df[\"Cabin\"].str.slice(0,1)\n",
        "sns.countplot(x=\"Cabin\", hue='Survived', data=titanic_df, palette=['red','green'])\n",
        "\n",
        "plt.show()\n",
        "plt.clf()\n"
      ],
      "metadata": {
        "colab": {
          "base_uri": "https://localhost:8080/",
          "height": 316
        },
        "id": "Nf-a8Qk3t_3C",
        "outputId": "05574eb3-b3d0-4acf-8f46-3eda38d6b80e"
      },
      "execution_count": 137,
      "outputs": [
        {
          "output_type": "execute_result",
          "data": {
            "text/plain": [
              "<matplotlib.axes._subplots.AxesSubplot at 0x7f3f334ead10>"
            ]
          },
          "metadata": {},
          "execution_count": 137
        },
        {
          "output_type": "display_data",
          "data": {
            "text/plain": [
              "<Figure size 432x288 with 1 Axes>"
            ],
            "image/png": "[encoded data removed]"
          },
          "metadata": {
            "needs_background": "light"
          }
        },
        {
          "output_type": "display_data",
          "data": {
            "text/plain": [
              "<Figure size 432x288 with 0 Axes>"
            ]
          },
          "metadata": {}
        }
      ]
    },
    {
      "cell_type": "markdown",
      "source": [],
      "metadata": {
        "id": "RQpDD1zanaeF"
      }
    },
    {
      "cell_type": "code",
      "source": [],
      "metadata": {
        "colab": {
          "base_uri": "https://localhost:8080/",
          "height": 528
        },
        "id": "UlzlvkuieTtE",
        "outputId": "f54edc55-9144-41b2-a96e-af7c31df44ab"
      },
      "execution_count": 120,
      "outputs": [
        {
          "output_type": "error",
          "ename": "KeyError",
          "evalue": "ignored",
          "traceback": [
            "\u001b[0;31m---------------------------------------------------------------------------\u001b[0m",
            "\u001b[0;31mKeyError\u001b[0m                                  Traceback (most recent call last)",
            "\u001b[0;32m/usr/local/lib/python3.7/dist-packages/pandas/core/indexes/base.py\u001b[0m in \u001b[0;36mget_loc\u001b[0;34m(self, key, method, tolerance)\u001b[0m\n\u001b[1;32m   3360\u001b[0m             \u001b[0;32mtry\u001b[0m\u001b[0;34m:\u001b[0m\u001b[0;34m\u001b[0m\u001b[0;34m\u001b[0m\u001b[0m\n\u001b[0;32m-> 3361\u001b[0;31m                 \u001b[0;32mreturn\u001b[0m \u001b[0mself\u001b[0m\u001b[0;34m.\u001b[0m\u001b[0m_engine\u001b[0m\u001b[0;34m.\u001b[0m\u001b[0mget_loc\u001b[0m\u001b[0;34m(\u001b[0m\u001b[0mcasted_key\u001b[0m\u001b[0;34m)\u001b[0m\u001b[0;34m\u001b[0m\u001b[0;34m\u001b[0m\u001b[0m\n\u001b[0m\u001b[1;32m   3362\u001b[0m             \u001b[0;32mexcept\u001b[0m \u001b[0mKeyError\u001b[0m \u001b[0;32mas\u001b[0m \u001b[0merr\u001b[0m\u001b[0;34m:\u001b[0m\u001b[0;34m\u001b[0m\u001b[0;34m\u001b[0m\u001b[0m\n",
            "\u001b[0;32m/usr/local/lib/python3.7/dist-packages/pandas/_libs/index.pyx\u001b[0m in \u001b[0;36mpandas._libs.index.IndexEngine.get_loc\u001b[0;34m()\u001b[0m\n",
            "\u001b[0;32m/usr/local/lib/python3.7/dist-packages/pandas/_libs/index.pyx\u001b[0m in \u001b[0;36mpandas._libs.index.IndexEngine.get_loc\u001b[0;34m()\u001b[0m\n",
            "\u001b[0;32mpandas/_libs/hashtable_class_helper.pxi\u001b[0m in \u001b[0;36mpandas._libs.hashtable.PyObjectHashTable.get_item\u001b[0;34m()\u001b[0m\n",
            "\u001b[0;32mpandas/_libs/hashtable_class_helper.pxi\u001b[0m in \u001b[0;36mpandas._libs.hashtable.PyObjectHashTable.get_item\u001b[0;34m()\u001b[0m\n",
            "\u001b[0;31mKeyError\u001b[0m: 'Ticket'",
            "\nThe above exception was the direct cause of the following exception:\n",
            "\u001b[0;31mKeyError\u001b[0m                                  Traceback (most recent call last)",
            "\u001b[0;32m<ipython-input-120-f1ffeec6d80f>\u001b[0m in \u001b[0;36m<module>\u001b[0;34m\u001b[0m\n\u001b[0;32m----> 1\u001b[0;31m \u001b[0mtitanic_df\u001b[0m\u001b[0;34m[\u001b[0m\u001b[0;34m\"Ticket\"\u001b[0m\u001b[0;34m]\u001b[0m\u001b[0;34m\u001b[0m\u001b[0;34m\u001b[0m\u001b[0m\n\u001b[0m",
            "\u001b[0;32m/usr/local/lib/python3.7/dist-packages/pandas/core/frame.py\u001b[0m in \u001b[0;36m__getitem__\u001b[0;34m(self, key)\u001b[0m\n\u001b[1;32m   3456\u001b[0m             \u001b[0;32mif\u001b[0m \u001b[0mself\u001b[0m\u001b[0;34m.\u001b[0m\u001b[0mcolumns\u001b[0m\u001b[0;34m.\u001b[0m\u001b[0mnlevels\u001b[0m \u001b[0;34m>\u001b[0m \u001b[0;36m1\u001b[0m\u001b[0;34m:\u001b[0m\u001b[0;34m\u001b[0m\u001b[0;34m\u001b[0m\u001b[0m\n\u001b[1;32m   3457\u001b[0m                 \u001b[0;32mreturn\u001b[0m \u001b[0mself\u001b[0m\u001b[0;34m.\u001b[0m\u001b[0m_getitem_multilevel\u001b[0m\u001b[0;34m(\u001b[0m\u001b[0mkey\u001b[0m\u001b[0;34m)\u001b[0m\u001b[0;34m\u001b[0m\u001b[0;34m\u001b[0m\u001b[0m\n\u001b[0;32m-> 3458\u001b[0;31m             \u001b[0mindexer\u001b[0m \u001b[0;34m=\u001b[0m \u001b[0mself\u001b[0m\u001b[0;34m.\u001b[0m\u001b[0mcolumns\u001b[0m\u001b[0;34m.\u001b[0m\u001b[0mget_loc\u001b[0m\u001b[0;34m(\u001b[0m\u001b[0mkey\u001b[0m\u001b[0;34m)\u001b[0m\u001b[0;34m\u001b[0m\u001b[0;34m\u001b[0m\u001b[0m\n\u001b[0m\u001b[1;32m   3459\u001b[0m             \u001b[0;32mif\u001b[0m \u001b[0mis_integer\u001b[0m\u001b[0;34m(\u001b[0m\u001b[0mindexer\u001b[0m\u001b[0;34m)\u001b[0m\u001b[0;34m:\u001b[0m\u001b[0;34m\u001b[0m\u001b[0;34m\u001b[0m\u001b[0m\n\u001b[1;32m   3460\u001b[0m                 \u001b[0mindexer\u001b[0m \u001b[0;34m=\u001b[0m \u001b[0;34m[\u001b[0m\u001b[0mindexer\u001b[0m\u001b[0;34m]\u001b[0m\u001b[0;34m\u001b[0m\u001b[0;34m\u001b[0m\u001b[0m\n",
            "\u001b[0;32m/usr/local/lib/python3.7/dist-packages/pandas/core/indexes/base.py\u001b[0m in \u001b[0;36mget_loc\u001b[0;34m(self, key, method, tolerance)\u001b[0m\n\u001b[1;32m   3361\u001b[0m                 \u001b[0;32mreturn\u001b[0m \u001b[0mself\u001b[0m\u001b[0;34m.\u001b[0m\u001b[0m_engine\u001b[0m\u001b[0;34m.\u001b[0m\u001b[0mget_loc\u001b[0m\u001b[0;34m(\u001b[0m\u001b[0mcasted_key\u001b[0m\u001b[0;34m)\u001b[0m\u001b[0;34m\u001b[0m\u001b[0;34m\u001b[0m\u001b[0m\n\u001b[1;32m   3362\u001b[0m             \u001b[0;32mexcept\u001b[0m \u001b[0mKeyError\u001b[0m \u001b[0;32mas\u001b[0m \u001b[0merr\u001b[0m\u001b[0;34m:\u001b[0m\u001b[0;34m\u001b[0m\u001b[0;34m\u001b[0m\u001b[0m\n\u001b[0;32m-> 3363\u001b[0;31m                 \u001b[0;32mraise\u001b[0m \u001b[0mKeyError\u001b[0m\u001b[0;34m(\u001b[0m\u001b[0mkey\u001b[0m\u001b[0;34m)\u001b[0m \u001b[0;32mfrom\u001b[0m \u001b[0merr\u001b[0m\u001b[0;34m\u001b[0m\u001b[0;34m\u001b[0m\u001b[0m\n\u001b[0m\u001b[1;32m   3364\u001b[0m \u001b[0;34m\u001b[0m\u001b[0m\n\u001b[1;32m   3365\u001b[0m         \u001b[0;32mif\u001b[0m \u001b[0mis_scalar\u001b[0m\u001b[0;34m(\u001b[0m\u001b[0mkey\u001b[0m\u001b[0;34m)\u001b[0m \u001b[0;32mand\u001b[0m \u001b[0misna\u001b[0m\u001b[0;34m(\u001b[0m\u001b[0mkey\u001b[0m\u001b[0;34m)\u001b[0m \u001b[0;32mand\u001b[0m \u001b[0;32mnot\u001b[0m \u001b[0mself\u001b[0m\u001b[0;34m.\u001b[0m\u001b[0mhasnans\u001b[0m\u001b[0;34m:\u001b[0m\u001b[0;34m\u001b[0m\u001b[0;34m\u001b[0m\u001b[0m\n",
            "\u001b[0;31mKeyError\u001b[0m: 'Ticket'"
          ]
        }
      ]
    },
    {
      "cell_type": "markdown",
      "metadata": {
        "id": "Cq0q_SKar6jh"
      },
      "source": [
        "# Feature engineering"
      ]
    },
    {
      "cell_type": "markdown",
      "metadata": {
        "id": "UebjDTVar6jh"
      },
      "source": [
        "### Replace Name with corresponding title"
      ]
    },
    {
      "cell_type": "code",
      "execution_count": null,
      "metadata": {
        "id": "qqMwHwQor6jh",
        "outputId": "4229b179-0b7d-4195-8355-aee8fccd7bdf"
      },
      "outputs": [
        {
          "data": {
            "text/plain": [
              "array(['Mr', 'Mrs', 'Miss', 'Master', 'Don', 'Rev', 'Dr', 'Mme', 'Ms',\n",
              "       'Major', 'Lady', 'Sir', 'Mlle', 'Col', 'Capt', 'Countess',\n",
              "       'Jonkheer'], dtype=object)"
            ]
          },
          "execution_count": 214,
          "metadata": {},
          "output_type": "execute_result"
        },
        {
          "data": {
            "text/html": [
              "<div>\n",
              "<style scoped>\n",
              "    .dataframe tbody tr th:only-of-type {\n",
              "        vertical-align: middle;\n",
              "    }\n",
              "\n",
              "    .dataframe tbody tr th {\n",
              "        vertical-align: top;\n",
              "    }\n",
              "\n",
              "    .dataframe thead th {\n",
              "        text-align: right;\n",
              "    }\n",
              "</style>\n",
              "<table border=\"1\" class=\"dataframe\">\n",
              "  <thead>\n",
              "    <tr style=\"text-align: right;\">\n",
              "      <th></th>\n",
              "      <th>Survived</th>\n",
              "      <th>Pclass</th>\n",
              "      <th>Sex</th>\n",
              "      <th>Age</th>\n",
              "      <th>SibSp</th>\n",
              "      <th>Parch</th>\n",
              "      <th>Fare</th>\n",
              "      <th>Cabin</th>\n",
              "      <th>Embarked</th>\n",
              "      <th>Title</th>\n",
              "    </tr>\n",
              "  </thead>\n",
              "  <tbody>\n",
              "    <tr>\n",
              "      <th>0</th>\n",
              "      <td>0</td>\n",
              "      <td>3</td>\n",
              "      <td>male</td>\n",
              "      <td>22.0</td>\n",
              "      <td>1</td>\n",
              "      <td>0</td>\n",
              "      <td>7.2500</td>\n",
              "      <td>NaN</td>\n",
              "      <td>S</td>\n",
              "      <td>Mr</td>\n",
              "    </tr>\n",
              "    <tr>\n",
              "      <th>1</th>\n",
              "      <td>1</td>\n",
              "      <td>1</td>\n",
              "      <td>female</td>\n",
              "      <td>38.0</td>\n",
              "      <td>1</td>\n",
              "      <td>0</td>\n",
              "      <td>71.2833</td>\n",
              "      <td>C85</td>\n",
              "      <td>C</td>\n",
              "      <td>Mrs</td>\n",
              "    </tr>\n",
              "    <tr>\n",
              "      <th>2</th>\n",
              "      <td>1</td>\n",
              "      <td>3</td>\n",
              "      <td>female</td>\n",
              "      <td>26.0</td>\n",
              "      <td>0</td>\n",
              "      <td>0</td>\n",
              "      <td>7.9250</td>\n",
              "      <td>NaN</td>\n",
              "      <td>S</td>\n",
              "      <td>Miss</td>\n",
              "    </tr>\n",
              "    <tr>\n",
              "      <th>3</th>\n",
              "      <td>1</td>\n",
              "      <td>1</td>\n",
              "      <td>female</td>\n",
              "      <td>35.0</td>\n",
              "      <td>1</td>\n",
              "      <td>0</td>\n",
              "      <td>53.1000</td>\n",
              "      <td>C123</td>\n",
              "      <td>S</td>\n",
              "      <td>Mrs</td>\n",
              "    </tr>\n",
              "    <tr>\n",
              "      <th>4</th>\n",
              "      <td>0</td>\n",
              "      <td>3</td>\n",
              "      <td>male</td>\n",
              "      <td>35.0</td>\n",
              "      <td>0</td>\n",
              "      <td>0</td>\n",
              "      <td>8.0500</td>\n",
              "      <td>NaN</td>\n",
              "      <td>S</td>\n",
              "      <td>Mr</td>\n",
              "    </tr>\n",
              "  </tbody>\n",
              "</table>\n",
              "</div>"
            ],
            "text/plain": [
              "   Survived  Pclass     Sex   Age  SibSp  Parch     Fare Cabin Embarked Title\n",
              "0         0       3    male  22.0      1      0   7.2500   NaN        S    Mr\n",
              "1         1       1  female  38.0      1      0  71.2833   C85        C   Mrs\n",
              "2         1       3  female  26.0      0      0   7.9250   NaN        S  Miss\n",
              "3         1       1  female  35.0      1      0  53.1000  C123        S   Mrs\n",
              "4         0       3    male  35.0      0      0   8.0500   NaN        S    Mr"
            ]
          },
          "execution_count": 214,
          "metadata": {},
          "output_type": "execute_result"
        }
      ],
      "source": [
        "if \"Name\" in titanic_df.columns:\n",
        "    titanic_df[\"Title\"] = titanic_df.Name.str.extract(\"([A-Za-z]+)\\\\.\")\n",
        "    titanic_df.drop(\"Name\", axis=1, inplace=True)\n",
        "titanic_df[\"Title\"].unique()\n",
        "titanic_df.head()"
      ]
    },
    {
      "cell_type": "markdown",
      "metadata": {
        "id": "RWVyeZ10r6jh"
      },
      "source": [
        "## Resample missing ages from titles and ages"
      ]
    },
    {
      "cell_type": "markdown",
      "metadata": {
        "id": "ZoJr6KkTr6jh"
      },
      "source": [
        "### Replace missing Mrs (men over 18)"
      ]
    },
    {
      "cell_type": "code",
      "execution_count": null,
      "metadata": {
        "id": "WL_EWM5br6ji",
        "outputId": "c30d657d-b458-4314-bcc9-99b8b1d5a783"
      },
      "outputs": [
        {
          "data": {
            "text/html": [
              "<div>\n",
              "<style scoped>\n",
              "    .dataframe tbody tr th:only-of-type {\n",
              "        vertical-align: middle;\n",
              "    }\n",
              "\n",
              "    .dataframe tbody tr th {\n",
              "        vertical-align: top;\n",
              "    }\n",
              "\n",
              "    .dataframe thead th {\n",
              "        text-align: right;\n",
              "    }\n",
              "</style>\n",
              "<table border=\"1\" class=\"dataframe\">\n",
              "  <thead>\n",
              "    <tr style=\"text-align: right;\">\n",
              "      <th></th>\n",
              "      <th>Survived</th>\n",
              "      <th>Pclass</th>\n",
              "      <th>Sex</th>\n",
              "      <th>Age</th>\n",
              "      <th>SibSp</th>\n",
              "      <th>Parch</th>\n",
              "      <th>Fare</th>\n",
              "      <th>Cabin</th>\n",
              "      <th>Embarked</th>\n",
              "      <th>Title</th>\n",
              "    </tr>\n",
              "  </thead>\n",
              "  <tbody>\n",
              "    <tr>\n",
              "      <th>0</th>\n",
              "      <td>0</td>\n",
              "      <td>3</td>\n",
              "      <td>male</td>\n",
              "      <td>22.0</td>\n",
              "      <td>1</td>\n",
              "      <td>0</td>\n",
              "      <td>7.2500</td>\n",
              "      <td>NaN</td>\n",
              "      <td>S</td>\n",
              "      <td>Mr</td>\n",
              "    </tr>\n",
              "    <tr>\n",
              "      <th>4</th>\n",
              "      <td>0</td>\n",
              "      <td>3</td>\n",
              "      <td>male</td>\n",
              "      <td>35.0</td>\n",
              "      <td>0</td>\n",
              "      <td>0</td>\n",
              "      <td>8.0500</td>\n",
              "      <td>NaN</td>\n",
              "      <td>S</td>\n",
              "      <td>Mr</td>\n",
              "    </tr>\n",
              "    <tr>\n",
              "      <th>6</th>\n",
              "      <td>0</td>\n",
              "      <td>1</td>\n",
              "      <td>male</td>\n",
              "      <td>54.0</td>\n",
              "      <td>0</td>\n",
              "      <td>0</td>\n",
              "      <td>51.8625</td>\n",
              "      <td>E46</td>\n",
              "      <td>S</td>\n",
              "      <td>Mr</td>\n",
              "    </tr>\n",
              "    <tr>\n",
              "      <th>12</th>\n",
              "      <td>0</td>\n",
              "      <td>3</td>\n",
              "      <td>male</td>\n",
              "      <td>20.0</td>\n",
              "      <td>0</td>\n",
              "      <td>0</td>\n",
              "      <td>8.0500</td>\n",
              "      <td>NaN</td>\n",
              "      <td>S</td>\n",
              "      <td>Mr</td>\n",
              "    </tr>\n",
              "    <tr>\n",
              "      <th>13</th>\n",
              "      <td>0</td>\n",
              "      <td>3</td>\n",
              "      <td>male</td>\n",
              "      <td>39.0</td>\n",
              "      <td>1</td>\n",
              "      <td>5</td>\n",
              "      <td>31.2750</td>\n",
              "      <td>NaN</td>\n",
              "      <td>S</td>\n",
              "      <td>Mr</td>\n",
              "    </tr>\n",
              "    <tr>\n",
              "      <th>...</th>\n",
              "      <td>...</td>\n",
              "      <td>...</td>\n",
              "      <td>...</td>\n",
              "      <td>...</td>\n",
              "      <td>...</td>\n",
              "      <td>...</td>\n",
              "      <td>...</td>\n",
              "      <td>...</td>\n",
              "      <td>...</td>\n",
              "      <td>...</td>\n",
              "    </tr>\n",
              "    <tr>\n",
              "      <th>881</th>\n",
              "      <td>0</td>\n",
              "      <td>3</td>\n",
              "      <td>male</td>\n",
              "      <td>33.0</td>\n",
              "      <td>0</td>\n",
              "      <td>0</td>\n",
              "      <td>7.8958</td>\n",
              "      <td>NaN</td>\n",
              "      <td>S</td>\n",
              "      <td>Mr</td>\n",
              "    </tr>\n",
              "    <tr>\n",
              "      <th>883</th>\n",
              "      <td>0</td>\n",
              "      <td>2</td>\n",
              "      <td>male</td>\n",
              "      <td>28.0</td>\n",
              "      <td>0</td>\n",
              "      <td>0</td>\n",
              "      <td>10.5000</td>\n",
              "      <td>NaN</td>\n",
              "      <td>S</td>\n",
              "      <td>Mr</td>\n",
              "    </tr>\n",
              "    <tr>\n",
              "      <th>884</th>\n",
              "      <td>0</td>\n",
              "      <td>3</td>\n",
              "      <td>male</td>\n",
              "      <td>25.0</td>\n",
              "      <td>0</td>\n",
              "      <td>0</td>\n",
              "      <td>7.0500</td>\n",
              "      <td>NaN</td>\n",
              "      <td>S</td>\n",
              "      <td>Mr</td>\n",
              "    </tr>\n",
              "    <tr>\n",
              "      <th>889</th>\n",
              "      <td>1</td>\n",
              "      <td>1</td>\n",
              "      <td>male</td>\n",
              "      <td>26.0</td>\n",
              "      <td>0</td>\n",
              "      <td>0</td>\n",
              "      <td>30.0000</td>\n",
              "      <td>C148</td>\n",
              "      <td>C</td>\n",
              "      <td>Mr</td>\n",
              "    </tr>\n",
              "    <tr>\n",
              "      <th>890</th>\n",
              "      <td>0</td>\n",
              "      <td>3</td>\n",
              "      <td>male</td>\n",
              "      <td>32.0</td>\n",
              "      <td>0</td>\n",
              "      <td>0</td>\n",
              "      <td>7.7500</td>\n",
              "      <td>NaN</td>\n",
              "      <td>Q</td>\n",
              "      <td>Mr</td>\n",
              "    </tr>\n",
              "  </tbody>\n",
              "</table>\n",
              "<p>376 rows × 10 columns</p>\n",
              "</div>"
            ],
            "text/plain": [
              "     Survived  Pclass   Sex   Age  SibSp  Parch     Fare Cabin Embarked Title\n",
              "0           0       3  male  22.0      1      0   7.2500   NaN        S    Mr\n",
              "4           0       3  male  35.0      0      0   8.0500   NaN        S    Mr\n",
              "6           0       1  male  54.0      0      0  51.8625   E46        S    Mr\n",
              "12          0       3  male  20.0      0      0   8.0500   NaN        S    Mr\n",
              "13          0       3  male  39.0      1      5  31.2750   NaN        S    Mr\n",
              "..        ...     ...   ...   ...    ...    ...      ...   ...      ...   ...\n",
              "881         0       3  male  33.0      0      0   7.8958   NaN        S    Mr\n",
              "883         0       2  male  28.0      0      0  10.5000   NaN        S    Mr\n",
              "884         0       3  male  25.0      0      0   7.0500   NaN        S    Mr\n",
              "889         1       1  male  26.0      0      0  30.0000  C148        C    Mr\n",
              "890         0       3  male  32.0      0      0   7.7500   NaN        Q    Mr\n",
              "\n",
              "[376 rows x 10 columns]"
            ]
          },
          "execution_count": 221,
          "metadata": {},
          "output_type": "execute_result"
        }
      ],
      "source": [
        "# titanic_df.loc[(titanic_df[\"Title\"] == \"Mr\") & titanic_df[\"Age\"].isna()]\n",
        "men_over_18_df = titanic_df.loc[(titanic_df[\"Title\"] == \"Mr\") & titanic_df[\"Age\"].notna() & (titanic_df[\"Age\"] >= 18)]\n",
        "men_over_18_df"
      ]
    },
    {
      "cell_type": "code",
      "execution_count": null,
      "metadata": {
        "id": "RCFjeNy-r6ji"
      },
      "outputs": [],
      "source": [
        "import os\n",
        "    \n",
        "LOCAL=True\n",
        "\n",
        "if LOCAL == False:\n",
        "   stub = modal.Stub()\n",
        "   image = modal.Image.debian_slim().pip_install([\"hopsworks\",\"joblib\",\"seaborn\",\"sklearn\",\"dataframe-image\"]) \n",
        "\n",
        "   @stub.function(image=image, schedule=modal.Period(days=1), secret=modal.Secret.from_name(\"jim-hopsworks-ai\"))\n",
        "   def f():\n",
        "       g()\n",
        "\n",
        "def g():\n",
        "    import hopsworks\n",
        "    import pandas as pd\n",
        "    \n",
        "    project = hopsworks.login()\n",
        "    fs = project.get_feature_store()\n",
        "    # iris_df = pd.read_csv(\"https://repo.hops.works/master/hopsworks-tutorials/data/iris.csv\")\n",
        "    titanic_df = pd.read_csv(\"./titanic.csv\")\n",
        "    titanic_fg = fs.get_or_create_feature_group(\n",
        "        name=\"iris_modal\",\n",
        "        version=1,\n",
        "        primary_key=[\"sepal_length\",\"sepal_width\",\"petal_length\",\"petal_width\"], \n",
        "        description=\"Iris flower dataset\")\n",
        "    titanic_fg.insert(titanic_df, write_options={\"wait_for_job\" : False})\n",
        "\n",
        "if __name__ == \"__main__\":\n",
        "    if LOCAL == True :\n",
        "        g()\n",
        "    else:\n",
        "        with stub.run():\n",
        "            f()\n"
      ]
    }
  ],
  "metadata": {
    "kernelspec": {
      "display_name": "Python 3.8.15 ('lab1-environment': venv)",
      "language": "python",
      "name": "python3"
    },
    "language_info": {
      "codemirror_mode": {
        "name": "ipython",
        "version": 3
      },
      "file_extension": ".py",
      "mimetype": "text/x-python",
      "name": "python",
      "nbconvert_exporter": "python",
      "pygments_lexer": "ipython3",
      "version": "3.8.15"
    },
    "orig_nbformat": 4,
    "vscode": {
      "interpreter": {
        "hash": "071e5976f79ed658ebc1a2e05e7660fcbc344b34d1725826c94820cca861cbd1"
      }
    },
    "colab": {
      "provenance": [],
      "collapsed_sections": []
    }
  },
  "nbformat": 4,
  "nbformat_minor": 0
}